{
 "cells": [
  {
   "cell_type": "code",
   "execution_count": 1,
   "metadata": {
    "collapsed": false
   },
   "outputs": [
    {
     "name": "stdout",
     "output_type": "stream",
     "text": [
      "Populating the interactive namespace from numpy and matplotlib\n"
     ]
    }
   ],
   "source": [
    "%pylab inline\n",
    "from simulation import *\n",
    "num_cores = multiprocessing.cpu_count() - 1\n",
    "import matplotlib.pyplot as plt\n",
    "from mpl_toolkits.axes_grid.anchored_artists import AnchoredText\n",
    "import sys\n",
    "import matplotlib\n",
    "matplotlib.rcParams['text.usetex'] = True\n",
    "matplotlib.rcParams['text.latex.unicode'] = True\n",
    "import matplotlib.gridspec as gridspec"
   ]
  },
  {
   "cell_type": "code",
   "execution_count": 2,
   "metadata": {
    "collapsed": false
   },
   "outputs": [],
   "source": [
    "results_1 = [ Parallel(n_jobs=num_cores)(delayed(process_q)(q=1, J=int(4**J)) for k in range(10000)) for J in range(1,6) ]\n",
    "results_2 =  [ Parallel(n_jobs=num_cores)(delayed(process_q)(q=2, J=int(4**J)) for k in range(10000)) for J in range(1,6) ]\n",
    "results_3 = [ Parallel(n_jobs=num_cores)(delayed(process_q)(q=3, J=int(4**J)) for k in range(10000)) for J in range(1,6) ]\n",
    "results_4 = [ Parallel(n_jobs=num_cores)(delayed(process_q)(q=4, J=int(4**J)) for k in range(10000)) for J in range(1,6) ]\n",
    "results_5 = [ Parallel(n_jobs=num_cores)(delayed(process_q)(q=5, J=int(4**J)) for k in range(10000)) for J in range(1,6) ]"
   ]
  },
  {
   "cell_type": "code",
   "execution_count": 3,
   "metadata": {
    "collapsed": true
   },
   "outputs": [],
   "source": [
    "import pickle, gzip\n",
    "\n",
    "with gzip.open('simulation_results.gz','wb') as f:\n",
    "    pickle.dump([results_1,results_2,results_3,results_4,results_5],f)"
   ]
  },
  {
   "cell_type": "code",
   "execution_count": null,
   "metadata": {
    "collapsed": true
   },
   "outputs": [],
   "source": [
    ""
   ]
  }
 ],
 "metadata": {
  "kernelspec": {
   "display_name": "Python 3",
   "language": "python",
   "name": "python3"
  },
  "language_info": {
   "codemirror_mode": {
    "name": "ipython",
    "version": 3.0
   },
   "file_extension": ".py",
   "mimetype": "text/x-python",
   "name": "python",
   "nbconvert_exporter": "python",
   "pygments_lexer": "ipython3",
   "version": "3.6.0"
  }
 },
 "nbformat": 4,
 "nbformat_minor": 0
}