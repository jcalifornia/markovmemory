{
 "cells": [
  {
   "cell_type": "code",
   "execution_count": 1,
   "metadata": {},
   "outputs": [
    {
     "name": "stdout",
     "output_type": "stream",
     "text": [
      "Populating the interactive namespace from numpy and matplotlib\n"
     ]
    }
   ],
   "source": [
    "%pylab inline\n",
    "from simulation import *\n",
    "from scipy.stats import poisson\n",
    "import numpy as np\n",
    "import matplotlib.pyplot as plt\n",
    "from matplotlib.offsetbox import AnchoredText\n",
    "import sys\n",
    "import matplotlib\n",
    "matplotlib.rcParams['text.usetex'] = True\n",
    "matplotlib.rcParams['text.latex.unicode'] = True\n",
    "import matplotlib.gridspec as gridspec\n",
    "import os\n",
    "import multiprocessing\n",
    "num_cores = multiprocessing.cpu_count() - 1\n"
   ]
  },
  {
   "cell_type": "code",
   "execution_count": 2,
   "metadata": {},
   "outputs": [
    {
     "data": {
      "text/plain": [
       "[<matplotlib.lines.Line2D at 0x114a506a0>]"
      ]
     },
     "execution_count": 2,
     "metadata": {},
     "output_type": "execute_result"
    },
    {
     "data": {
      "image/png": "[encoded data removed]",
      "text/plain": [
       "<Figure size 432x288 with 1 Axes>"
      ]
     },
     "metadata": {},
     "output_type": "display_data"
    }
   ],
   "source": [
    "gamelogs2017= [file for file in os.listdir(\"./gamelogs/2017\") if file.endswith(\"txt\")]\n",
    "\n",
    "gamelogs = []\n",
    "gamelogs += [\"./gamelogs/2017/\"+file for file in gamelogs2017]\n",
    "Lebron_FT  = [\"\".join([\"+\" if \"makes\" in line else \"-\" for line in open(game) if '\\tLeBron' in line and \"free throw\" in line]) for game in gamelogs]\n",
    "\n",
    "n_ft = [len(l) for l in Lebron_FT]\n",
    "poisson_mean = np.mean(n_ft)\n",
    "x = np.arange(20)\n",
    "g1 = poisson.pmf(x,poisson_mean)\n",
    "\n",
    "plt.hist(n_ft, density=True, bins=10)\n",
    "plt.step(x,g1,color=\"red\")"
   ]
  },
  {
   "cell_type": "code",
   "execution_count": 3,
   "metadata": {},
   "outputs": [],
   "source": [
    "bron_0 = infer_model(Lebron_FT,[\"+\",\"-\"],0,0)\n",
    "bron_1 = infer_model(Lebron_FT,[\"+\",\"-\"],1,1)"
   ]
  },
  {
   "cell_type": "code",
   "execution_count": 4,
   "metadata": {},
   "outputs": [],
   "source": [
    "trajectories, _ = simulate_freethrows(bron_1[0],poisson_mean, 91)"
   ]
  },
  {
   "cell_type": "code",
   "execution_count": 5,
   "metadata": {},
   "outputs": [],
   "source": [
    "def sim_one():\n",
    "    trajectories, _ = simulate_freethrows(bron_1[0],poisson_mean, 91)\n",
    "    crit = evaluate_models([l for l in trajectories if len(l)>0],[\"+\",\"-\"],alpha=1,qbounds = [0,3])\n",
    "    return(crit)\n",
    "\n",
    "def sim_zero():\n",
    "    trajectories, _ = simulate_freethrows(bron_0[0],poisson_mean, 91)\n",
    "    crit = evaluate_models([l for l in trajectories if len(l)>0],[\"+\",\"-\"],alpha=1,qbounds = [0,3])\n",
    "    return(crit)"
   ]
  },
  {
   "cell_type": "code",
   "execution_count": 6,
   "metadata": {},
   "outputs": [
    {
     "data": {
      "text/plain": [
       "{'AIC': {0: 796.2134937413254,\n",
       "  1: 796.7294697254443,\n",
       "  2: 801.5588491259336,\n",
       "  3: 809.6528476368889},\n",
       " 'DIC1': {0: 796.2081524989142,\n",
       "  1: 796.6629195285014,\n",
       "  2: 801.1962317098144,\n",
       "  3: 807.8023642003468},\n",
       " 'DIC2': {0: 796.2055167303811,\n",
       "  1: 796.6372482194994,\n",
       "  2: 801.0131460097716,\n",
       "  3: 807.0311884537641},\n",
       " 'LOO': {0: 796.0211291592204,\n",
       "  1: 796.597800559746,\n",
       "  2: 801.183216747803,\n",
       "  3: 808.7250786931579},\n",
       " 'LPD': {0: 793.5208181514045,\n",
       "  1: 788.6560536034989,\n",
       "  2: 782.7399385137128,\n",
       "  3: 769.437778651847},\n",
       " 'LPPD': {0: 794.4199021023396,\n",
       "  1: 790.8959729919513,\n",
       "  2: 787.963622497809,\n",
       "  3: 780.4157334377893},\n",
       " 'LPPDCV2': {0: 794.8405501405537,\n",
       "  1: 793.2854427229963,\n",
       "  2: 791.8730559616356,\n",
       "  3: 797.4993354206034},\n",
       " 'WAIC1': {0: 796.0026426271988,\n",
       "  1: 796.5098327975104,\n",
       "  2: 800.8482166497924,\n",
       "  3: 807.3583908370739},\n",
       " 'WAIC2': {0: 796.0208798373873,\n",
       "  1: 796.5959057789282,\n",
       "  2: 801.1688924073931,\n",
       "  3: 808.6098437992285},\n",
       " 'kDIC1': {0: 0.9968801341443623,\n",
       "  1: 2.9600166337706924,\n",
       "  2: 6.790312136013654,\n",
       "  3: 13.915302062915316},\n",
       " 'kDIC2': {0: 0.9955622498778212,\n",
       "  1: 2.9471809792696604,\n",
       "  2: 6.6987692859922845,\n",
       "  3: 13.529714189623974},\n",
       " 'kWAIC1': {0: 0.7913702624296093,\n",
       "  1: 2.8069299027795296,\n",
       "  2: 6.442297075991746,\n",
       "  3: 13.4713286996423},\n",
       " 'kWAIC2': {0: 0.8004888675238369,\n",
       "  1: 2.8499663934884185,\n",
       "  2: 6.602634954792069,\n",
       "  3: 14.097055180719616}}"
      ]
     },
     "execution_count": 6,
     "metadata": {},
     "output_type": "execute_result"
    }
   ],
   "source": [
    "n_sims = 10000\n",
    "\n",
    "results_1 =  Parallel(n_jobs=num_cores)(delayed(sim_one)() for k in range(n_sims))  \n",
    "results_1[0]"
   ]
  },
  {
   "cell_type": "code",
   "execution_count": 7,
   "metadata": {},
   "outputs": [
    {
     "data": {
      "text/plain": [
       "{'AIC': {0: 809.9290501663945,\n",
       "  1: 812.0077049776097,\n",
       "  2: 817.2474165037662,\n",
       "  3: 820.0325345810421},\n",
       " 'DIC1': {0: 809.9238010411323,\n",
       "  1: 811.9399249008122,\n",
       "  2: 816.8874900775859,\n",
       "  3: 818.194557900342},\n",
       " 'DIC2': {0: 809.9211744865333,\n",
       "  1: 811.9202032304609,\n",
       "  2: 816.6634597616528,\n",
       "  3: 817.5850932143726},\n",
       " 'LOO': {0: 809.9404986422178,\n",
       "  1: 811.8859430355842,\n",
       "  2: 816.7647199200454,\n",
       "  3: 820.2877600583993},\n",
       " 'LPD': {0: 807.2363660768142,\n",
       "  1: 803.9344824618055,\n",
       "  2: 798.4277162994947,\n",
       "  3: 779.8213220830793},\n",
       " 'LPPD': {0: 807.9386266233496,\n",
       "  1: 806.1707871795801,\n",
       "  2: 803.7425565326371,\n",
       "  3: 790.0556792923605},\n",
       " 'LPPDCV2': {0: 812.9967548544032,\n",
       "  1: 815.2761878374315,\n",
       "  2: 820.6685607134169,\n",
       "  3: 821.1342554263407},\n",
       " 'WAIC1': {0: 809.9150955420978,\n",
       "  1: 811.7926539377346,\n",
       "  2: 816.4341926537365,\n",
       "  3: 818.5451908568457},\n",
       " 'WAIC2': {0: 809.9401247005677,\n",
       "  1: 811.8838770466339,\n",
       "  2: 816.750648448852,\n",
       "  3: 820.0509379368382},\n",
       " 'kDIC1': {0: 0.9969399584081202,\n",
       "  1: 2.958204342154886,\n",
       "  2: 6.799115484399067,\n",
       "  3: 13.894122825738918},\n",
       " 'kDIC2': {0: 0.9956266811086607,\n",
       "  1: 2.9483435069791994,\n",
       "  2: 6.687100326432528,\n",
       "  3: 13.589390482754197},\n",
       " 'kWAIC1': {0: 0.9882344593740982,\n",
       "  1: 2.8109333790772553,\n",
       "  2: 6.345818060549732,\n",
       "  3: 14.244755782242578},\n",
       " 'kWAIC2': {0: 1.0007490386090527,\n",
       "  1: 2.856544933526911,\n",
       "  2: 6.504045958107467,\n",
       "  3: 14.997629322238836}}"
      ]
     },
     "execution_count": 7,
     "metadata": {},
     "output_type": "execute_result"
    }
   ],
   "source": [
    "results_0 = Parallel(n_jobs=num_cores)(delayed(sim_zero)() for k in range(n_sims))  \n",
    "results_0[20]"
   ]
  },
  {
   "cell_type": "code",
   "execution_count": 8,
   "metadata": {},
   "outputs": [],
   "source": [
    "import pickle, gzip\n",
    "\n",
    "with gzip.open('../../freethrow_sims.gz','wb') as f:\n",
    "    pickle.dump([results_0,results_1],f)"
   ]
  },
  {
   "cell_type": "code",
   "execution_count": 9,
   "metadata": {},
   "outputs": [],
   "source": [
    "trajectories, _ = simulate_freethrows(bron_0[0],poisson_mean, 91)"
   ]
  },
  {
   "cell_type": "code",
   "execution_count": 10,
   "metadata": {},
   "outputs": [
    {
     "data": {
      "text/plain": [
       "6.8791208791208796"
      ]
     },
     "execution_count": 10,
     "metadata": {},
     "output_type": "execute_result"
    }
   ],
   "source": [
    "np.mean([len(l) for l in trajectories])"
   ]
  },
  {
   "cell_type": "code",
   "execution_count": 11,
   "metadata": {},
   "outputs": [
    {
     "data": {
      "text/plain": [
       "6.93"
      ]
     },
     "execution_count": 11,
     "metadata": {},
     "output_type": "execute_result"
    }
   ],
   "source": [
    "np.mean([len(l) for l in Lebron_FT])"
   ]
  },
  {
   "cell_type": "code",
   "execution_count": 12,
   "metadata": {},
   "outputs": [
    {
     "data": {
      "text/plain": [
       "6.93"
      ]
     },
     "execution_count": 12,
     "metadata": {},
     "output_type": "execute_result"
    }
   ],
   "source": [
    "poisson_mean"
   ]
  },
  {
   "cell_type": "code",
   "execution_count": null,
   "metadata": {
    "collapsed": true
   },
   "outputs": [],
   "source": []
  }
 ],
 "metadata": {
  "kernelspec": {
   "display_name": "Python 3",
   "language": "python",
   "name": "python3"
  },
  "language_info": {
   "codemirror_mode": {
    "name": "ipython",
    "version": 3
   },
   "file_extension": ".py",
   "mimetype": "text/x-python",
   "name": "python",
   "nbconvert_exporter": "python",
   "pygments_lexer": "ipython3",
   "version": "3.6.4"
  }
 },
 "nbformat": 4,
 "nbformat_minor": 2
}
