{
 "cells": [
  {
   "cell_type": "code",
   "execution_count": 1,
   "metadata": {},
   "outputs": [
    {
     "name": "stdout",
     "output_type": "stream",
     "text": [
      "Populating the interactive namespace from numpy and matplotlib\n"
     ]
    }
   ],
   "source": [
    "%pylab inline\n",
    "from simulation import *\n",
    "from scipy.stats import gamma\n",
    "import numpy as np\n",
    "import matplotlib.pyplot as plt\n",
    "from matplotlib.offsetbox import AnchoredText\n",
    "import sys\n",
    "import matplotlib\n",
    "matplotlib.rcParams['text.usetex'] = True\n",
    "matplotlib.rcParams['text.latex.unicode'] = True\n",
    "matplotlib.rcParams['text.latex.preamble']=[r\"\\usepackage{amsmath}\"]\n",
    "import re\n",
    "import matplotlib.gridspec as gridspec\n",
    "import os\n",
    "from palettable.colorbrewer.qualitative import Set1_5\n",
    "from scipy.special import gammaln, polygamma\n",
    "from random import shuffle"
   ]
  },
  {
   "cell_type": "code",
   "execution_count": 2,
   "metadata": {},
   "outputs": [],
   "source": [
    "gamelogs2016 = [file for file in os.listdir(\"./gamelogs/2016\") if file.endswith(\"txt\")]\n",
    "gamelogs2017= [file for file in os.listdir(\"./gamelogs/2017\") if file.endswith(\"txt\")]\n",
    "\n",
    "gamelogs = []\n",
    "gamelogs += [\"./gamelogs/2017/\"+file for file in gamelogs2017]\n",
    "#gamelogs += [\"./gamelogs/2016/\"+file for file in gamelogs2016]\n",
    "\n",
    "\n",
    "#gamelogs = [\"nbafinals/game1\"]\n",
    "#gamelogs = [\"nbafinals/game1\",\"nbafinals/game2\",\"nbafinals/game3\",\"nbafinals/game4\",\"nbafinals/game5\"]\n",
    "#gamelogs += [\"nbafinals/cavspacers1\",\"nbafinals/cavspacers2\",\"nbafinals/cavspacers3\",\"nbafinals/cavspacers4\"]\n",
    "#gamelogs += [\"nbafinals/cavsraptors1\",\"nbafinals/cavsraptors2\",\"nbafinals/cavsraptors3\",\"nbafinals/cavsraptors4\"]\n",
    "#gamelogs += [\"nbafinals/cavsceltics1\",\"nbafinals/cavsceltics2\",\"nbafinals/cavsceltics3\",\"nbafinals/cavsceltics4\",\"nbafinals/cavsceltics5\"]"
   ]
  },
  {
   "cell_type": "code",
   "execution_count": 3,
   "metadata": {},
   "outputs": [],
   "source": [
    "Lebron_FT  = [\"\".join([\"+\" if \"makes\" in line else \"-\" for line in open(game) if '\\tLeBron' in line and \"free throw\" in line]) for game in gamelogs]\n",
    "Lebron_3  = [\"\".join([\"+\" if \"makes\" in line else \"-\" for line in open(game) if '\\tLeBron' in line and \"three\" in line]) for game in gamelogs]\n",
    "Lebron_jumper  = [\"\".join([\"+\" if \"makes\" in line else \"-\" for line in open(game) if '\\tLeBron' in line and \"jumper\" in line]) for game in gamelogs]\n",
    "\n",
    "Kyrie_FT = [\"\".join([\"+\" if \"makes\" in line else \"-\" for line in open(game) if '\\tKyrie Irving' in line and \"free throw\" in line]) for game in gamelogs]\n",
    "Kyrie_3  = [\"\".join([\"+\" if \"makes\" in line else \"-\" for line in open(game) if '\\tKyrie Irving' in line and \"three\" in line]) for game in gamelogs]\n",
    "Kyrie_jumper = [\"\".join([\"+\" if \"makes\" in line else \"-\" for line in open(game) if '\\tKyrie Irving' in line and \"jumper\" in line]) for game in gamelogs]\n",
    "\n",
    "JR_3 = [\"\".join([\"+\" if \"makes\" in line else \"-\" for line in open(game) if '\\tJR' in line and \"three\" in line]) for game in gamelogs]\n",
    "#Klay_3 = [\"\".join([\"+\" if \"makes\" in line else \"-\" for line in open(\"./gamelogs/\"+game) if '\\tKlay' in line and \"three\" in line]) for game in gamelogs]"
   ]
  },
  {
   "cell_type": "code",
   "execution_count": 22,
   "metadata": {},
   "outputs": [],
   "source": [
    "# Scramble the free throws\n",
    "def shuffle_word(word):\n",
    "    word = list(word)\n",
    "    shuffle(word)\n",
    "    return ''.join(word)\n",
    "\n",
    "Lebron_FT = [shuffle_word(word) for word in Lebron_FT]"
   ]
  },
  {
   "cell_type": "code",
   "execution_count": 23,
   "metadata": {},
   "outputs": [],
   "source": [
    "bron_models_3 = evaluate_models([l for l in Lebron_3 if len(l)>0],[\"+\",\"-\"],alpha=1,qbounds = [0,3])\n",
    "bron_models_FT = evaluate_models([l for l in Lebron_FT if len(l)>0],[\"+\",\"-\"],alpha=1,qbounds = [0,3])\n",
    "bron_models_jumper = evaluate_models([l for l in Lebron_jumper if len(l)>0],[\"+\",\"-\"],alpha=1,qbounds = [0,3])\n",
    "\n",
    "kyrie_models_3 = evaluate_models([l for l in Kyrie_3 if len(l)>0],[\"+\",\"-\"],alpha=1,qbounds = [0,3])\n",
    "kyrie_models_FT = evaluate_models([l for l in Kyrie_FT if len(l)>0],[\"+\",\"-\"],alpha=1,qbounds = [0,3])\n",
    "kyrie_models_jumper = evaluate_models([l for l in Kyrie_jumper if len(l)>0],[\"+\",\"-\"],alpha=1,qbounds = [0,3])\n",
    "\n",
    "JR_models_3 = evaluate_models([l for l in JR_3 if len(l)>0],[\"+\",\"-\"],alpha=1,qbounds = [0,3])\n"
   ]
  },
  {
   "cell_type": "code",
   "execution_count": null,
   "metadata": {},
   "outputs": [],
   "source": []
  },
  {
   "cell_type": "code",
   "execution_count": 24,
   "metadata": {},
   "outputs": [],
   "source": [
    "bron_0 = infer_model(Lebron_FT,[\"+\",\"-\"],0,0)\n",
    "bron_1 = infer_model(Lebron_FT,[\"+\",\"-\"],1,1)\n",
    "bron_2 = infer_model(Lebron_FT,[\"+\",\"-\"],1,2)\n",
    "bron_3 = infer_model(Lebron_FT,[\"+\",\"-\"],1,3)\n",
    "bron_4 = infer_model(Lebron_FT,[\"+\",\"-\"],1,4)"
   ]
  },
  {
   "cell_type": "code",
   "execution_count": 25,
   "metadata": {},
   "outputs": [
    {
     "data": {
      "text/plain": [
       "([<matplotlib.axis.XTick at 0x10777b4e0>,\n",
       "  <matplotlib.axis.XTick at 0x107780e80>,\n",
       "  <matplotlib.axis.XTick at 0x107780be0>,\n",
       "  <matplotlib.axis.XTick at 0x1077ba0b8>],\n",
       " <a list of 4 Text xticklabel objects>)"
      ]
     },
     "execution_count": 25,
     "metadata": {},
     "output_type": "execute_result"
    },
    {
     "data": {
      "image/png": "[encoded data removed]",
      "text/plain": [
       "<Figure size 432x288 with 1 Axes>"
      ]
     },
     "metadata": {},
     "output_type": "display_data"
    }
   ],
   "source": [
    "\n",
    "\n",
    "plt.plot([v for v in bron_models_FT['LOO'].values()],label=\"LOO\")\n",
    "plt.scatter(range(4),[v for v in bron_models_FT['LOO'].values()])\n",
    "plt.plot([v for v in bron_models_FT['AIC'].values()], label = \"AIC\")\n",
    "plt.scatter(range(4),[v for v in bron_models_FT['AIC'].values()])\n",
    "plt.plot([v for v in bron_models_FT['WAIC1'].values()],label = \"WAIC1\")\n",
    "plt.scatter(range(4),[v for v in bron_models_FT['WAIC1'].values()])\n",
    "plt.plot([v for v in bron_models_FT['WAIC2'].values()],label = \"WAIC2\")\n",
    "plt.scatter(range(4),[v for v in bron_models_FT['WAIC2'].values()])\n",
    "plt.title(\"Free throws\")\n",
    "plt.legend()\n",
    "plt.xticks(range(4))\n"
   ]
  },
  {
   "cell_type": "code",
   "execution_count": 10,
   "metadata": {},
   "outputs": [
    {
     "data": {
      "text/plain": [
       "(defaultdict(functools.partial(<built-in function zeros>, 2),\n",
       "             {'': array([0.31634446, 0.68365554])}),\n",
       " defaultdict(functools.partial(<built-in function zeros>, 2),\n",
       "             {'': array([180., 389.])}))"
      ]
     },
     "execution_count": 10,
     "metadata": {},
     "output_type": "execute_result"
    }
   ],
   "source": [
    "infer_model(Lebron_jumper,[\"+\",\"-\"],0,0)"
   ]
  },
  {
   "cell_type": "code",
   "execution_count": 11,
   "metadata": {},
   "outputs": [
    {
     "data": {
      "text/plain": [
       "(defaultdict(functools.partial(<built-in function zeros>, 2),\n",
       "             {'+': array([0.36875, 0.63125]),\n",
       "              '-': array([0.29245283, 0.70754717]),\n",
       "              '0': array([0.30769231, 0.69230769])}),\n",
       " defaultdict(functools.partial(<built-in function zeros>, 2),\n",
       "             {'+': array([ 59., 101.]),\n",
       "              '-': array([ 93., 225.]),\n",
       "              '0': array([28., 63.])}))"
      ]
     },
     "execution_count": 11,
     "metadata": {},
     "output_type": "execute_result"
    }
   ],
   "source": [
    "infer_model(Lebron_jumper,[\"+\",\"-\"],0,1)"
   ]
  },
  {
   "cell_type": "code",
   "execution_count": 19,
   "metadata": {},
   "outputs": [
    {
     "data": {
      "text/plain": [
       "<matplotlib.legend.Legend at 0x107486d68>"
      ]
     },
     "execution_count": 19,
     "metadata": {},
     "output_type": "execute_result"
    },
    {
     "data": {
      "image/png": "[encoded data removed]",
      "text/plain": [
       "<Figure size 720x288 with 3 Axes>"
      ]
     },
     "metadata": {},
     "output_type": "display_data"
    }
   ],
   "source": [
    "fig = plt.figure(figsize=(10,4))\n",
    "gs0 = gridspec.GridSpec(1,3, hspace = 0.15,wspace=0.20)\n",
    "\n",
    "ax = []\n",
    "ax+= [plt.Subplot(fig,gs0[0,0])]\n",
    "fig.add_subplot(ax[-1])\n",
    "\n",
    "ax[-1].plot([v for v in bron_models_FT['LOO'].values()],label=\"LOO\")\n",
    "ax[-1].scatter(range(4),[v for v in bron_models_FT['LOO'].values()])\n",
    "ax[-1].plot([v for v in bron_models_FT['AIC'].values()], label = \"AIC\")\n",
    "ax[-1].scatter(range(4),[v for v in bron_models_FT['AIC'].values()])\n",
    "ax[-1].plot([v for v in bron_models_FT['WAIC1'].values()],label = \"WAIC1\")\n",
    "ax[-1].scatter(range(4),[v for v in bron_models_FT['WAIC1'].values()])\n",
    "ax[-1].plot([v for v in bron_models_FT['WAIC2'].values()],label = \"WAIC2\")\n",
    "ax[-1].scatter(range(4),[v for v in bron_models_FT['WAIC2'].values()])\n",
    "ax[-1].set_title( \"Free throws\",fontsize=16)\n",
    "ax[-1].spines['top'].set_visible(False)\n",
    "ax[-1].spines['right'].set_visible(False)\n",
    "ax[-1].set_xticks(range(4))\n",
    "\n",
    "ax+= [plt.Subplot(fig,gs0[0,1])]\n",
    "fig.add_subplot(ax[-1])\n",
    "\n",
    "ax[-1].plot([v for v in bron_models_3['LOO'].values()],label=\"LOO\")\n",
    "ax[-1].scatter(range(4),[v for v in bron_models_3['LOO'].values()])\n",
    "ax[-1].plot([v for v in bron_models_3['AIC'].values()], label = \"AIC\")\n",
    "ax[-1].scatter(range(4),[v for v in bron_models_3['AIC'].values()])\n",
    "ax[-1].plot([v for v in bron_models_3['WAIC1'].values()],label = \"WAIC1\")\n",
    "ax[-1].scatter(range(4),[v for v in bron_models_3['WAIC1'].values()])\n",
    "ax[-1].plot([v for v in bron_models_3['WAIC2'].values()],label = \"WAIC2\")\n",
    "ax[-1].scatter(range(4),[v for v in bron_models_3['WAIC2'].values()])\n",
    "#ax[-1].text(2,872,\"Jump shots\",fontsize=16)\n",
    "ax[-1].spines['top'].set_visible(False)\n",
    "ax[-1].spines['right'].set_visible(False)\n",
    "ax[-1].set_xticks(range(4))\n",
    "ax[-1].set_title( \"Jump shots\",fontsize=16)\n",
    "\n",
    "\n",
    "ax+= [plt.Subplot(fig,gs0[0,2])]\n",
    "fig.add_subplot(ax[-1])\n",
    "\n",
    "ax[-1].plot([v for v in bron_models_jumper['LOO'].values()],label=\"LOO\")\n",
    "ax[-1].scatter(range(4),[v for v in bron_models_jumper['LOO'].values()])\n",
    "ax[-1].plot([v for v in bron_models_jumper['AIC'].values()], label = \"AIC\")\n",
    "ax[-1].scatter(range(4),[v for v in bron_models_jumper['AIC'].values()])\n",
    "ax[-1].plot([v for v in bron_models_jumper['WAIC1'].values()],label = \"WAIC1\")\n",
    "ax[-1].scatter(range(4),[v for v in bron_models_jumper['WAIC1'].values()])\n",
    "ax[-1].plot([v for v in bron_models_jumper['WAIC2'].values()],label = \"WAIC2\")\n",
    "ax[-1].scatter(range(4),[v for v in bron_models_jumper['WAIC2'].values()])\n",
    "ax[-1].spines['top'].set_visible(False)\n",
    "ax[-1].spines['right'].set_visible(False)\n",
    "ax[-1].set_xticks(range(4))\n",
    "ax[-1].set_title( \"Threes\",fontsize=16)\n",
    "\n",
    "\n",
    "ax[-2].legend(loc='upper center', bbox_to_anchor=(0.5, -0.1),\n",
    "          ncol=5,fontsize=16)\n",
    "\n",
    "#plt.savefig('../figures/fig4.pdf',bbox_inches = 'tight')"
   ]
  },
  {
   "cell_type": "code",
   "execution_count": 20,
   "metadata": {},
   "outputs": [
    {
     "data": {
      "text/plain": [
       "Text(0.05,-0.1,'60/91 (65.9\\\\%)')"
      ]
     },
     "execution_count": 20,
     "metadata": {},
     "output_type": "execute_result"
    },
    {
     "data": {
      "image/png": "[encoded data removed]",
      "text/plain": [
       "<Figure size 648x216 with 2 Axes>"
      ]
     },
     "metadata": {},
     "output_type": "display_data"
    }
   ],
   "source": [
    "fig = plt.figure(figsize=(9,3))\n",
    "gs0 = gridspec.GridSpec(1,2, hspace = 0.15,wspace=0.15,width_ratios=[7,3])\n",
    "\n",
    "ax = []\n",
    "ax+= [plt.Subplot(fig,gs0[0,1])]\n",
    "fig.add_subplot(ax[-1])\n",
    "\n",
    "ax[-1].plot([v for v in bron_models_FT['LOO'].values()],label=\"LOO\")\n",
    "ax[-1].scatter(range(4),[v for v in bron_models_FT['LOO'].values()])\n",
    "ax[-1].plot([v for v in bron_models_FT['AIC'].values()], label = \"AIC\")\n",
    "ax[-1].scatter(range(4),[v for v in bron_models_FT['AIC'].values()])\n",
    "ax[-1].plot([v for v in bron_models_FT['WAIC1'].values()],label = \"WAIC1\")\n",
    "ax[-1].scatter(range(4),[v for v in bron_models_FT['WAIC1'].values()])\n",
    "ax[-1].plot([v for v in bron_models_FT['WAIC2'].values()],label = \"WAIC2\")\n",
    "ax[-1].scatter(range(4),[v for v in bron_models_FT['WAIC2'].values()])\n",
    "ax[-1].set_title( \"Model selection\",fontsize=16)\n",
    "ax[-1].spines['top'].set_visible(False)\n",
    "ax[-1].spines['right'].set_visible(False)\n",
    "ax[-1].set_xticks(range(4))\n",
    "ax[-1].set_xlabel(\"$h$\",fontsize=16)\n",
    "ax[-1].legend()\n",
    "\n",
    "ax+= [plt.Subplot(fig,gs0[0,0])]\n",
    "fig.add_subplot(ax[-1])\n",
    "\n",
    "ax[-1].barh(0, bron_1[0]['0'][0] ,align='center',alpha=0.9 ,color=\"greenyellow\" )\n",
    "ax[-1].barh(0, bron_1[0]['0'][1] ,left = bron_1[0]['0'][0] ,align='center',alpha=0.9 ,color=\"lightgray\" )\n",
    "\n",
    "\n",
    "ax[-1].barh(1, bron_1[0]['+'][0] ,align='center',alpha=0.9 ,color=\"greenyellow\" )\n",
    "ax[-1].barh(1, bron_1[0]['+'][1] ,left = bron_1[0]['+'][0] ,align='center',alpha=0.9 ,color=\"lightgray\" )\n",
    "\n",
    "ax[-1].barh(2, bron_1[0]['-'][0] ,align='center',alpha=0.9 ,color=\"greenyellow\")\n",
    "ax[-1].barh(2, bron_1[0]['-'][1] ,left = bron_1[0]['-'][0] ,align='center',alpha=0.9,color=\"lightgray\" )\n",
    "\n",
    "ax[-1].barh(3, bron_0[0][''][0] ,align='center',alpha=0.9,color=\"greenyellow\" )\n",
    "ax[-1].barh(3, bron_0[0][''][1] ,left = bron_0[0][''][0] ,align='center',alpha=0.9,color=\"lightgray\" )\n",
    "\n",
    "ax[-1].spines[\"top\"].set_visible(False)\n",
    "ax[-1].spines[\"right\"].set_visible(False)\n",
    "#ax[-1].spines[\"bottom\"].set_visible(False)\n",
    "ax[-1].spines[\"left\"].set_visible(False)\n",
    "ax[-1].set_yticks([0,1,2,3])\n",
    "ax[-1].yaxis.tick_left()\n",
    "ax[-1].set_yticklabels([\"first of\\ngame\",\"after\\nmake\",\"after\\n miss\",\"overall\" ],fontsize=16)\n",
    "\n",
    "ax[-1].set_title( \"Free throw accuracy\",fontsize=16)\n",
    "ax[-1].text(0.05,3-0.1,\"471/694 (67.9\\%)\",fontsize=16,fontweight='bold')\n",
    "ax[-1].text(0.05,2-0.1,\"139/189 (73.5\\%)\",fontsize=16,fontweight='bold')\n",
    "ax[-1].text(0.05,1-0.1,\"272/413 (65.9\\%)\",fontsize=16,fontweight='bold')\n",
    "ax[-1].text(0.05,0-0.1,\"60/91 (65.9\\%)\",fontsize=16,fontweight='bold')\n",
    "\n",
    "\n",
    "\n",
    "\n",
    "#plt.savefig('../figures/fig4.pdf',bbox_inches = 'tight')"
   ]
  },
  {
   "cell_type": "code",
   "execution_count": 12,
   "metadata": {},
   "outputs": [],
   "source": [
    "import pickle, gzip\n",
    "\n",
    "with gzip.open('../../freethrow_sims.gz','rb') as f:\n",
    "    sims = pickle.load(f)"
   ]
  },
  {
   "cell_type": "code",
   "execution_count": null,
   "metadata": {},
   "outputs": [],
   "source": [
    "criteria = ['WAIC1','WAIC2','LOO', 'AIC']\n",
    "criteria.reverse()\n",
    "\n",
    "pretty_labels = ['WAIC$_1$','WAIC$_2$','LOO','AIC']\n",
    "pretty_labels.reverse()\n",
    "colors = [\"#000000\"] + Set1_5.hex_colors"
   ]
  },
  {
   "cell_type": "code",
   "execution_count": null,
   "metadata": {},
   "outputs": [],
   "source": [
    "histograms = defaultdict(partial(np.zeros,4,dtype=int))\n",
    "\n",
    "for h,h_result in enumerate(sims):\n",
    "    # these results have a single true q\n",
    "    for info in h_result:\n",
    "        for key, val in info.items():\n",
    "            best = np.argmin([v for v in val.values()])\n",
    "            hvals = [v for v in val.keys()]\n",
    "            histograms[(key,h)][best] += 1"
   ]
  },
  {
   "cell_type": "code",
   "execution_count": null,
   "metadata": {},
   "outputs": [],
   "source": [
    "fig = plt.figure(figsize=(9,3))\n",
    "gs0 = gridspec.GridSpec(2,1, hspace = 0.10,wspace=0.10)\n",
    "\n",
    "ax = []\n",
    "\n",
    "\n",
    "for j in range(2):\n",
    "    ax+= [plt.Subplot(fig,gs0[j,0])]\n",
    "    fig.add_subplot(ax[-1])\n",
    "    cumulative = np.zeros(len(criteria))\n",
    "    for k in range(4):\n",
    "        widths = np.array([np.sum(histograms[(quantity, j)][k]) for quantity in criteria])\n",
    "        ax[-1].barh(range(len(criteria)),widths,align='center',alpha=0.9,left=cumulative,color=colors[k])\n",
    "        for l,w in enumerate(widths):\n",
    "            # decide if we want to label some information\n",
    "            if w>1000:\n",
    "                ax[-1].text(cumulative[l]+w/2,l,\"{0:.0f}\\%\".format(w/100),\n",
    "                            ha=\"center\",va=\"center\",color='w',fontweight='black',fontsize=16)\n",
    "        cumulative+= widths\n",
    "        \n",
    "        ax[-1].set_xlim((0,10000))\n",
    "        ax[-1].set_xticks([])\n",
    "        ax[-1].set_yticks(range(4))\n",
    "        ax[-1].set_yticklabels(pretty_labels,fontsize=14)\n",
    "        ax[-1].spines[\"top\"].set_visible(False)\n",
    "        ax[-1].spines[\"right\"].set_visible(False)\n",
    "        ax[-1].spines[\"bottom\"].set_visible(False)\n",
    "        ax[-1].spines[\"left\"].set_visible(False)\n",
    "        ax[-1].set_ylim((-0.5,len(criteria)-.5))\n",
    "        \n",
    "        ax[-1].set_ylabel(r\"$\\boldsymbol{h_{\\textrm{true}}=\"+str(j)+\"}$\",fontsize=16,color=colors[j])\n",
    "\n"
   ]
  },
  {
   "cell_type": "code",
   "execution_count": 25,
   "metadata": {},
   "outputs": [
    {
     "data": {
      "text/plain": [
       "array([4022, 4851,  807,  320])"
      ]
     },
     "execution_count": 25,
     "metadata": {},
     "output_type": "execute_result"
    }
   ],
   "source": [
    "histograms['WAIC1',1]"
   ]
  },
  {
   "cell_type": "code",
   "execution_count": 17,
   "metadata": {},
   "outputs": [
    {
     "data": {
      "text/plain": [
       "Text(0.5,0,'Simulated power analysis')"
      ]
     },
     "execution_count": 17,
     "metadata": {},
     "output_type": "execute_result"
    },
    {
     "data": {
      "image/png": "[encoded data removed]",
      "text/plain": [
       "<Figure size 648x460.8 with 4 Axes>"
      ]
     },
     "metadata": {},
     "output_type": "display_data"
    }
   ],
   "source": [
    "fig = plt.figure(figsize=(9,6.4))\n",
    "gs00 = gridspec.GridSpec(2,1, height_ratios = [3.8,5.2], wspace = .2)\n",
    "gs0 = gridspec.GridSpecFromSubplotSpec(1,2, hspace = 0.15,\n",
    "                                       wspace=0.15,width_ratios=[7,3], subplot_spec=gs00[0])\n",
    "\n",
    "ax = []\n",
    "ax+= [plt.Subplot(fig,gs0[0,1])]\n",
    "fig.add_subplot(ax[-1])\n",
    "\n",
    "ax[-1].plot([v for v in bron_models_FT['LOO'].values()],label=\"LOO\")\n",
    "ax[-1].scatter(range(4),[v for v in bron_models_FT['LOO'].values()])\n",
    "ax[-1].plot([v for v in bron_models_FT['AIC'].values()], label = \"AIC\")\n",
    "ax[-1].scatter(range(4),[v for v in bron_models_FT['AIC'].values()])\n",
    "ax[-1].plot([v for v in bron_models_FT['WAIC1'].values()],label = \"WAIC1\")\n",
    "ax[-1].scatter(range(4),[v for v in bron_models_FT['WAIC1'].values()])\n",
    "ax[-1].plot([v for v in bron_models_FT['WAIC2'].values()],label = \"WAIC2\")\n",
    "ax[-1].scatter(range(4),[v for v in bron_models_FT['WAIC2'].values()])\n",
    "ax[-1].set_title( \"Model selection\",fontsize=16)\n",
    "ax[-1].spines['top'].set_visible(False)\n",
    "ax[-1].spines['right'].set_visible(False)\n",
    "ax[-1].set_xticks(range(4))\n",
    "ax[-1].set_xlabel(\"$h$\",fontsize=16)\n",
    "ax[-1].xaxis.set_label_coords(1.05, -0.025)\n",
    "\n",
    "ax[-1].legend()\n",
    "\n",
    "ax+= [plt.Subplot(fig,gs0[0,0])]\n",
    "fig.add_subplot(ax[-1])\n",
    "\n",
    "ax[-1].barh(0, bron_1[0]['0'][0] ,align='center',alpha=0.9 ,color=\"greenyellow\" )\n",
    "ax[-1].barh(0, bron_1[0]['0'][1] ,left = bron_1[0]['0'][0] ,align='center',alpha=0.9 ,color=\"lightgray\" )\n",
    "\n",
    "\n",
    "ax[-1].barh(1, bron_1[0]['+'][0] ,align='center',alpha=0.9 ,color=\"greenyellow\" )\n",
    "ax[-1].barh(1, bron_1[0]['+'][1] ,left = bron_1[0]['+'][0] ,align='center',alpha=0.9 ,color=\"lightgray\" )\n",
    "\n",
    "ax[-1].barh(2, bron_1[0]['-'][0] ,align='center',alpha=0.9 ,color=\"greenyellow\")\n",
    "ax[-1].barh(2, bron_1[0]['-'][1] ,left = bron_1[0]['-'][0] ,align='center',alpha=0.9,color=\"lightgray\" )\n",
    "\n",
    "ax[-1].barh(3, bron_0[0][''][0] ,align='center',alpha=0.9,color=\"greenyellow\" )\n",
    "ax[-1].barh(3, bron_0[0][''][1] ,left = bron_0[0][''][0] ,align='center',alpha=0.9,color=\"lightgray\" )\n",
    "\n",
    "ax[-1].spines[\"top\"].set_visible(False)\n",
    "ax[-1].spines[\"right\"].set_visible(False)\n",
    "#ax[-1].spines[\"bottom\"].set_visible(False)\n",
    "ax[-1].spines[\"left\"].set_visible(False)\n",
    "ax[-1].set_yticks([0,1,2,3])\n",
    "ax[-1].yaxis.tick_left()\n",
    "ax[-1].set_yticklabels([\"first of\\ngame\",\"after\\nmake\",\"after\\n miss\",\"overall\" ],fontsize=14)\n",
    "\n",
    "ax[-1].set_title( \"Observed free throw accuracy\",fontsize=16)\n",
    "ax[-1].text(0.05,3-0.1,\"471/694 (67.9\\%)\",fontsize=16,fontweight='bold')\n",
    "ax[-1].text(0.05,2-0.1,\"139/189 (73.5\\%)\",fontsize=16,fontweight='bold')\n",
    "ax[-1].text(0.05,1-0.1,\"272/413 (65.9\\%)\",fontsize=16,fontweight='bold')\n",
    "ax[-1].text(0.05,0-0.1,\"60/91 (65.9\\%)\",fontsize=16,fontweight='bold')\n",
    "ax[-1].set_xlim((0,1))\n",
    "\n",
    "\n",
    "gs1 = gridspec.GridSpecFromSubplotSpec(2,1, hspace = 0.10,wspace=0.10,subplot_spec=gs00[1])\n",
    "\n",
    "ax = []\n",
    "\n",
    "\n",
    "for j in range(2):\n",
    "    ax+= [plt.Subplot(fig,gs1[1-j,0])]\n",
    "    fig.add_subplot(ax[-1])\n",
    "    cumulative = np.zeros(len(criteria))\n",
    "    for k in range(4):\n",
    "        widths = np.array([np.sum(histograms[(quantity, j)][k]) for quantity in criteria])\n",
    "        ax[-1].barh(range(len(criteria)),widths,align='center',alpha=0.9,left=cumulative,color=colors[k])\n",
    "        for l,w in enumerate(widths):\n",
    "            # decide if we want to label some information\n",
    "            if w>1000:\n",
    "                ax[-1].text(cumulative[l]+w/2,l,\"{0:.0f}\\%\".format(w/100),\n",
    "                            ha=\"center\",va=\"center\",color='w',fontweight='bold',fontsize=16)\n",
    "        cumulative+= widths\n",
    "        \n",
    "        ax[-1].set_xlim((0,10000))\n",
    "        ax[-1].set_xticks([])\n",
    "        ax[-1].set_yticks(range(4))\n",
    "        ax[-1].set_yticklabels(pretty_labels,fontsize=14)\n",
    "        ax[-1].spines[\"top\"].set_visible(False)\n",
    "        ax[-1].spines[\"right\"].set_visible(False)\n",
    "        ax[-1].spines[\"bottom\"].set_visible(False)\n",
    "        ax[-1].spines[\"left\"].set_visible(False)\n",
    "        ax[-1].set_ylim((-0.5,len(criteria)-.5))\n",
    "        \n",
    "        ax[-1].set_ylabel(r\"$\\boldsymbol{h_{\\textrm{true}}=\"+str(j)+\"}$\",fontsize=16,color=colors[j])\n",
    "\n",
    "ax[-2].set_xlabel(\"Simulated power analysis\",fontsize=16)\n",
    "\n",
    "\n",
    "#plt.savefig('../figures/fig4.pdf',bbox_inches = 'tight')"
   ]
  },
  {
   "cell_type": "code",
   "execution_count": 18,
   "metadata": {},
   "outputs": [
    {
     "data": {
      "text/plain": [
       "(0, 1)"
      ]
     },
     "execution_count": 18,
     "metadata": {},
     "output_type": "execute_result"
    },
    {
     "data": {
      "image/png": "[encoded data removed]",
      "text/plain": [
       "<Figure size 648x126 with 1 Axes>"
      ]
     },
     "metadata": {},
     "output_type": "display_data"
    }
   ],
   "source": [
    "fig = plt.figure(figsize=(9,1.75))\n",
    "gs0 = gridspec.GridSpec(1,1, hspace = 0.15,wspace=0.15)\n",
    "\n",
    "ax = []\n",
    "\n",
    "ax+= [plt.Subplot(fig,gs0[0,0])]\n",
    "fig.add_subplot(ax[-1])\n",
    "\n",
    "ax[-1].barh(0, bron_1[0]['0'][0] ,align='center',alpha=0.9 ,color=\"greenyellow\" )\n",
    "ax[-1].barh(0, bron_1[0]['0'][1] ,left = bron_1[0]['0'][0] ,align='center',alpha=0.9 ,color=\"lightgray\" )\n",
    "\n",
    "\n",
    "ax[-1].barh(1, 0.733 ,align='center',alpha=0.9 ,color=\"greenyellow\" )\n",
    "ax[-1].barh(1, 1-.733 ,left = .733 ,align='center',alpha=0.9 ,color=\"lightgray\" )\n",
    "\n",
    "\n",
    "ax[-1].spines[\"top\"].set_visible(False)\n",
    "ax[-1].spines[\"right\"].set_visible(False)\n",
    "#ax[-1].spines[\"bottom\"].set_visible(False)\n",
    "ax[-1].spines[\"left\"].set_visible(False)\n",
    "ax[-1].set_yticks([0,1])\n",
    "ax[-1].yaxis.tick_left()\n",
    "ax[-1].set_yticklabels([\"otherwise\",\"after miss\" ],fontsize=18)\n",
    "\n",
    "ax[-1].set_title( \"Hybrid jagged model: observed free throw accuracy\",fontsize=18)\n",
    "\n",
    "ax[-1].text(0.05,1-0.1,\"139/189 (73.5\\%)\",fontsize=18,fontweight='bold')\n",
    "ax[-1].text(0.05,0-0.1,\"332/504 (65.9\\%)\",fontsize=18,fontweight='bold')\n",
    "\n",
    "ax[-1].set_xlim((0,1))\n",
    "\n",
    "\n",
    "#plt.savefig('../figures/fig5.pdf',bbox_inches = 'tight')"
   ]
  },
  {
   "cell_type": "code",
   "execution_count": 19,
   "metadata": {},
   "outputs": [
    {
     "data": {
      "text/plain": [
       "{'AIC': 869.4034765709613,\n",
       " 'LOO': 869.5197782598668,\n",
       " 'WAIC1': 869.4475246427262,\n",
       " 'WAIC2': 869.5181154335422}"
      ]
     },
     "execution_count": 19,
     "metadata": {},
     "output_type": "execute_result"
    }
   ],
   "source": [
    "hybrid_info(Lebron_FT,1)"
   ]
  },
  {
   "cell_type": "code",
   "execution_count": 24,
   "metadata": {},
   "outputs": [
    {
     "data": {
      "text/plain": [
       "{'AIC': 869.4034765709613,\n",
       " 'LOO': 869.5588268754457,\n",
       " 'WAIC1': 869.484781700595,\n",
       " 'WAIC2': 869.5570956049493}"
      ]
     },
     "execution_count": 24,
     "metadata": {},
     "output_type": "execute_result"
    }
   ],
   "source": [
    "hybrid_info(Lebron_FT,0)"
   ]
  },
  {
   "cell_type": "code",
   "execution_count": 21,
   "metadata": {},
   "outputs": [
    {
     "data": {
      "text/plain": [
       "['-+',\n",
       " '+-++-++',\n",
       " '+--+-+++++-',\n",
       " '-+++-+-+-+',\n",
       " '+++++',\n",
       " '-++++++',\n",
       " '+++++',\n",
       " '+-+-+++-+',\n",
       " '-+',\n",
       " '--+++-+++-',\n",
       " '',\n",
       " '+-+',\n",
       " '+++++-++',\n",
       " '+++++',\n",
       " '+++++-++-',\n",
       " '++----+',\n",
       " '+++--+++---',\n",
       " '',\n",
       " '++++++-++',\n",
       " '+++-++-+-++++-',\n",
       " '+--+',\n",
       " '+--++--++',\n",
       " '++--+++-',\n",
       " '',\n",
       " '-+++-+--+-+',\n",
       " '+-++++',\n",
       " '+',\n",
       " '++-+++',\n",
       " '+--+-+-',\n",
       " '',\n",
       " '+---+-+',\n",
       " '++-++-',\n",
       " '-+-+++++++',\n",
       " '+--++++-+',\n",
       " '-+++++-+++',\n",
       " '++-+-+',\n",
       " '++++-++',\n",
       " '++++++++-',\n",
       " '+++',\n",
       " '-++++-+++-',\n",
       " '-+-++-++',\n",
       " '+-++-++',\n",
       " '++-+',\n",
       " '+-++-+-++++',\n",
       " '+-+-++-',\n",
       " '+-++-+-+++',\n",
       " '--+++--+',\n",
       " '-+-++-+',\n",
       " '++++-',\n",
       " '+--+-',\n",
       " '+-+++++-',\n",
       " '--+',\n",
       " '++++',\n",
       " '+--+-+',\n",
       " '++-+',\n",
       " '++++--',\n",
       " '',\n",
       " '-++++++-+',\n",
       " '-+++-++-',\n",
       " '--+-+++-',\n",
       " '',\n",
       " '+---+-++++',\n",
       " '+-++-++-',\n",
       " '++-+-+-++-',\n",
       " '++-',\n",
       " '+-+++',\n",
       " '---+++++--',\n",
       " '',\n",
       " '-+-++-++',\n",
       " '-+-+',\n",
       " '+++++++++--+++++',\n",
       " '-+-+++',\n",
       " '+--++-',\n",
       " '--+--++',\n",
       " '+-++--',\n",
       " '--+-+-++++--',\n",
       " '-++-++',\n",
       " '+++++++',\n",
       " '-++---',\n",
       " '+++-++++++',\n",
       " '',\n",
       " '',\n",
       " '-+++++++++-',\n",
       " '+-+-',\n",
       " '-++--+',\n",
       " '+-++',\n",
       " '---+++++',\n",
       " '++++--+-+',\n",
       " '++-+--',\n",
       " '-+++--++--+-+-',\n",
       " '-++++-++-',\n",
       " '+++-++++',\n",
       " '+++-+--+-++++++++-++-',\n",
       " '+++++-++++++++++',\n",
       " '+++++++-+',\n",
       " '-+-+++++++--',\n",
       " '+-+++',\n",
       " '-+++++',\n",
       " '+-++--++-+',\n",
       " '+---']"
      ]
     },
     "execution_count": 21,
     "metadata": {},
     "output_type": "execute_result"
    }
   ],
   "source": [
    "Lebron_FT"
   ]
  },
  {
   "cell_type": "code",
   "execution_count": 32,
   "metadata": {},
   "outputs": [
    {
     "data": {
      "text/plain": [
       "(defaultdict(functools.partial(<built-in function zeros>, 2),\n",
       "             {'+': array([0.65783133, 0.34216867]),\n",
       "              '-': array([0.73298429, 0.26701571]),\n",
       "              '0': array([0.65591398, 0.34408602])}),\n",
       " defaultdict(functools.partial(<built-in function zeros>, 2),\n",
       "             {'+': array([272., 141.]),\n",
       "              '-': array([139.,  50.]),\n",
       "              '0': array([60., 31.])}))"
      ]
     },
     "execution_count": 32,
     "metadata": {},
     "output_type": "execute_result"
    }
   ],
   "source": [
    " infer_model(Lebron_FT,[\"+\",\"-\"],1,1)"
   ]
  },
  {
   "cell_type": "code",
   "execution_count": 31,
   "metadata": {},
   "outputs": [
    {
     "data": {
      "text/plain": [
       "693.0"
      ]
     },
     "execution_count": 31,
     "metadata": {},
     "output_type": "execute_result"
    }
   ],
   "source": [
    " sum(infer_model(Lebron_FT,[\"+\",\"-\"],0,0)[1][''])"
   ]
  },
  {
   "cell_type": "code",
   "execution_count": 33,
   "metadata": {},
   "outputs": [
    {
     "data": {
      "text/plain": [
       "defaultdict(functools.partial(<built-in function zeros>, 2),\n",
       "            {'+': array([0.65783133, 0.34216867]),\n",
       "             '-': array([0.73298429, 0.26701571]),\n",
       "             '0': array([0.65591398, 0.34408602])})"
      ]
     },
     "execution_count": 33,
     "metadata": {},
     "output_type": "execute_result"
    }
   ],
   "source": [
    "infer_model(Lebron_FT,[\"+\",\"-\"],1,1)[0]"
   ]
  },
  {
   "cell_type": "code",
   "execution_count": null,
   "metadata": {},
   "outputs": [],
   "source": []
  }
 ],
 "metadata": {
  "kernelspec": {
   "display_name": "Python 3",
   "language": "python",
   "name": "python3"
  },
  "language_info": {
   "codemirror_mode": {
    "name": "ipython",
    "version": 3
   },
   "file_extension": ".py",
   "mimetype": "text/x-python",
   "name": "python",
   "nbconvert_exporter": "python",
   "pygments_lexer": "ipython3",
   "version": "3.6.4"
  }
 },
 "nbformat": 4,
 "nbformat_minor": 2
}
