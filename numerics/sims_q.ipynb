{
 "cells": [
  {
   "cell_type": "code",
   "execution_count": 1,
   "metadata": {},
   "outputs": [
    {
     "name": "stdout",
     "output_type": "stream",
     "text": [
      "Populating the interactive namespace from numpy and matplotlib\n"
     ]
    }
   ],
   "source": [
    "%pylab inline\n",
    "from simulation import *\n",
    "num_cores = multiprocessing.cpu_count() - 1\n",
    "import sys"
   ]
  },
  {
   "cell_type": "code",
   "execution_count": null,
   "metadata": {},
   "outputs": [],
   "source": [
    "results_0 = [ Parallel(n_jobs=num_cores)(delayed(process_q)(q=0, J=int(10**J)) for k in range(100)) for J in range(1,8) ]\n",
    "print(0)\n",
    "results_1 = [ Parallel(n_jobs=num_cores)(delayed(process_q)(q=1, J=int(10**J)) for k in range(100)) for J in range(1,8) ]\n",
    "print(1)\n",
    "results_2 =  [ Parallel(n_jobs=num_cores)(delayed(process_q)(q=2, J=int(10**J)) for k in range(100)) for J in range(1,8) ]\n",
    "print(2)\n",
    "results_3 = [ Parallel(n_jobs=num_cores)(delayed(process_q)(q=3, J=int(10**J)) for k in range(100)) for J in range(1,8) ]\n",
    "print(3)\n",
    "results_4 = [ Parallel(n_jobs=num_cores)(delayed(process_q)(q=4, J=int(10**J)) for k in range(100)) for J in range(1,8) ]\n",
    "print(4)\n",
    "results_5 = [ Parallel(n_jobs=num_cores)(delayed(process_q)(q=5, J=int(10**J)) for k in range(100)) for J in range(1,8) ]\n",
    "print(5)\n",
    "results_6 = [ Parallel(n_jobs=num_cores)(delayed(process_q)(q=6, J=int(10**J)) for k in range(100)) for J in range(1,8) ]\n",
    "print(6)"
   ]
  },
  {
   "cell_type": "code",
   "execution_count": null,
   "metadata": {},
   "outputs": [],
   "source": [
    "import pickle, gzip\n",
    "\n",
    "with gzip.open('simulation_results_q.gz','wb') as f:\n",
    "    pickle.dump([results_0,results_1,results_2,results_3,results_4,results_5,results_6],f)"
   ]
  },
  {
   "cell_type": "code",
   "execution_count": null,
   "metadata": {},
   "outputs": [],
   "source": []
  }
 ],
 "metadata": {
  "kernelspec": {
   "display_name": "Python 3",
   "language": "python",
   "name": "python3"
  },
  "language_info": {
   "codemirror_mode": {
    "name": "ipython",
    "version": 3
   },
   "file_extension": ".py",
   "mimetype": "text/x-python",
   "name": "python",
   "nbconvert_exporter": "python",
   "pygments_lexer": "ipython3",
   "version": "3.6.4"
  }
 },
 "nbformat": 4,
 "nbformat_minor": 1
}
