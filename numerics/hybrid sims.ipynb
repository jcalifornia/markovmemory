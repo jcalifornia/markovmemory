{
 "cells": [
  {
   "cell_type": "code",
   "execution_count": 1,
   "metadata": {},
   "outputs": [
    {
     "name": "stdout",
     "output_type": "stream",
     "text": [
      "Populating the interactive namespace from numpy and matplotlib\n"
     ]
    }
   ],
   "source": [
    "%pylab inline\n",
    "from simulation import *\n",
    "from scipy.stats import poisson\n",
    "import numpy as np\n",
    "import matplotlib.pyplot as plt\n",
    "from mpl_toolkits.axes_grid.anchored_artists import AnchoredText\n",
    "import sys\n",
    "import matplotlib\n",
    "matplotlib.rcParams['text.usetex'] = True\n",
    "matplotlib.rcParams['text.latex.unicode'] = True\n",
    "import matplotlib.gridspec as gridspec\n",
    "import os\n",
    "import multiprocessing\n",
    "num_cores = multiprocessing.cpu_count() - 1\n"
   ]
  },
  {
   "cell_type": "code",
   "execution_count": 2,
   "metadata": {},
   "outputs": [
    {
     "data": {
      "text/plain": [
       "[<matplotlib.lines.Line2D at 0x106ea6588>]"
      ]
     },
     "execution_count": 2,
     "metadata": {},
     "output_type": "execute_result"
    },
    {
     "data": {
      "image/png": "[encoded data removed]",
      "text/plain": [
       "<matplotlib.figure.Figure at 0x10973c748>"
      ]
     },
     "metadata": {},
     "output_type": "display_data"
    }
   ],
   "source": [
    "gamelogs2017= [file for file in os.listdir(\"./gamelogs/2017\") if file.endswith(\"txt\")]\n",
    "\n",
    "gamelogs = []\n",
    "gamelogs += [\"./gamelogs/2017/\"+file for file in gamelogs2017]\n",
    "Lebron_FT  = [\"\".join([\"+\" if \"makes\" in line else \"-\" for line in open(game) if '\\tLeBron' in line and \"free throw\" in line]) for game in gamelogs]\n",
    "\n",
    "n_ft = [len(l) for l in Lebron_FT]\n",
    "poisson_mean = np.mean(n_ft)\n",
    "x = np.arange(20)\n",
    "g1 = poisson.pmf(x,poisson_mean)\n",
    "\n",
    "plt.hist(n_ft, normed=True, bins=10)\n",
    "plt.step(x,g1,color=\"red\")"
   ]
  },
  {
   "cell_type": "code",
   "execution_count": 3,
   "metadata": {},
   "outputs": [],
   "source": [
    "bron_0 = infer_model(Lebron_FT,[\"+\",\"-\"],0,0)\n",
    "bron_1 = infer_model(Lebron_FT,[\"+\",\"-\"],1,1)"
   ]
  },
  {
   "cell_type": "code",
   "execution_count": 4,
   "metadata": {},
   "outputs": [],
   "source": [
    "trajectories, _ = simulate_freethrows(bron_1[0],poisson_mean, 91)"
   ]
  },
  {
   "cell_type": "code",
   "execution_count": 5,
   "metadata": {
    "collapsed": true
   },
   "outputs": [],
   "source": [
    "def sim_one():\n",
    "    trajectories, _ = simulate_freethrows(bron_1[0],poisson_mean, 91)\n",
    "    crit = evaluate_models([l for l in trajectories if len(l)>0],[\"+\",\"-\"],alpha=1,qbounds = [0,3])\n",
    "    return(crit)\n",
    "\n",
    "def sim_zero():\n",
    "    trajectories, _ = simulate_freethrows(bron_0[0],poisson_mean, 91)\n",
    "    crit = evaluate_models([l for l in trajectories if len(l)>0],[\"+\",\"-\"],alpha=1,qbounds = [0,3])\n",
    "    return(crit)"
   ]
  },
  {
   "cell_type": "code",
   "execution_count": 6,
   "metadata": {},
   "outputs": [
    {
     "data": {
      "text/plain": [
       "defaultdict(functools.partial(<built-in function zeros>, 2),\n",
       "            {'': array([ 471.,  222.])})"
      ]
     },
     "execution_count": 6,
     "metadata": {},
     "output_type": "execute_result"
    }
   ],
   "source": [
    "bron_0[1]"
   ]
  },
  {
   "cell_type": "code",
   "execution_count": 7,
   "metadata": {},
   "outputs": [
    {
     "data": {
      "text/plain": [
       "defaultdict(functools.partial(<built-in function zeros>, 2),\n",
       "            {'': array([ 0.67965368,  0.32034632])})"
      ]
     },
     "execution_count": 7,
     "metadata": {},
     "output_type": "execute_result"
    }
   ],
   "source": [
    "bron_0[0]"
   ]
  },
  {
   "cell_type": "code",
   "execution_count": 8,
   "metadata": {},
   "outputs": [
    {
     "data": {
      "text/plain": [
       "{'AIC': {0: 801.80744613483557,\n",
       "  1: 804.9888077389362,\n",
       "  2: 808.28185761865859,\n",
       "  3: 816.35035120819737},\n",
       " 'DIC1': {0: 801.80215472102986,\n",
       "  1: 804.92649403511064,\n",
       "  2: 807.93913909696983,\n",
       "  3: 814.62343007758716},\n",
       " 'DIC2': {0: 801.79927580412027,\n",
       "  1: 804.88733415861157,\n",
       "  2: 807.78880712512444,\n",
       "  3: 814.18621153788865},\n",
       " 'LOO': {0: 801.73637479373519,\n",
       "  1: 804.74512934043821,\n",
       "  2: 807.80074757495777,\n",
       "  3: 814.9680563632246},\n",
       " 'LPD': {0: 799.11476360505094,\n",
       "  1: 796.91484537782185,\n",
       "  2: 789.46131039716522,\n",
       "  3: 776.13096777546343},\n",
       " 'LPPD': {0: 799.89676076702744,\n",
       "  1: 799.25600624856941,\n",
       "  2: 794.8079142024377,\n",
       "  3: 787.63574259830659},\n",
       " 'LPPDCV2': {0: 801.1159911237155,\n",
       "  1: 800.77487156956022,\n",
       "  2: 821.6378577535387,\n",
       "  3: 828.80780736180907},\n",
       " 'WAIC1': {0: 801.71364089774579,\n",
       "  1: 804.66680568639788,\n",
       "  2: 807.47476113623895,\n",
       "  3: 813.73923381348675},\n",
       " 'WAIC2': {0: 801.7360464328732,\n",
       "  1: 804.7436656486866,\n",
       "  2: 807.78628298118497,\n",
       "  3: 814.86100202100056},\n",
       " 'kDIC1': {0: 0.99695388864302004,\n",
       "  1: 2.9650880676269935,\n",
       "  2: 6.7978014276313843,\n",
       "  3: 13.935941871690488},\n",
       " 'kDIC2': {0: 0.99551443018822283,\n",
       "  1: 2.9455081293774583,\n",
       "  2: 6.7226354417086895,\n",
       "  3: 13.717332601841235},\n",
       " 'kWAIC1': {0: 0.90844006535917288,\n",
       "  1: 2.7053997189142365,\n",
       "  2: 6.3334234669006264,\n",
       "  3: 13.051745607590078},\n",
       " 'kWAIC2': {0: 0.91964283292287452,\n",
       "  1: 2.7438297000586021,\n",
       "  2: 6.4891843893736327,\n",
       "  3: 13.612629711346967}}"
      ]
     },
     "execution_count": 8,
     "metadata": {},
     "output_type": "execute_result"
    }
   ],
   "source": [
    "sim_zero()"
   ]
  },
  {
   "cell_type": "code",
   "execution_count": null,
   "metadata": {
    "collapsed": true
   },
   "outputs": [],
   "source": []
  }
 ],
 "metadata": {
  "kernelspec": {
   "display_name": "Python 3",
   "language": "python",
   "name": "python3"
  },
  "language_info": {
   "codemirror_mode": {
    "name": "ipython",
    "version": 3
   },
   "file_extension": ".py",
   "mimetype": "text/x-python",
   "name": "python",
   "nbconvert_exporter": "python",
   "pygments_lexer": "ipython3",
   "version": "3.6.0"
  }
 },
 "nbformat": 4,
 "nbformat_minor": 2
}
