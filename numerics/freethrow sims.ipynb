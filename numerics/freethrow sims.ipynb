{
 "cells": [
  {
   "cell_type": "code",
   "execution_count": 2,
   "metadata": {},
   "outputs": [
    {
     "name": "stdout",
     "output_type": "stream",
     "text": [
      "Populating the interactive namespace from numpy and matplotlib\n"
     ]
    }
   ],
   "source": [
    "%pylab inline\n",
    "from simulation import *\n",
    "from scipy.stats import poisson\n",
    "import numpy as np\n",
    "import matplotlib.pyplot as plt\n",
    "from mpl_toolkits.axes_grid.anchored_artists import AnchoredText\n",
    "import sys\n",
    "import matplotlib\n",
    "matplotlib.rcParams['text.usetex'] = True\n",
    "matplotlib.rcParams['text.latex.unicode'] = True\n",
    "import matplotlib.gridspec as gridspec\n",
    "import os\n",
    "import multiprocessing\n",
    "num_cores = multiprocessing.cpu_count() - 1\n"
   ]
  },
  {
   "cell_type": "code",
   "execution_count": 3,
   "metadata": {},
   "outputs": [
    {
     "data": {
      "text/plain": [
       "[<matplotlib.lines.Line2D at 0x105ca8be0>]"
      ]
     },
     "execution_count": 3,
     "metadata": {},
     "output_type": "execute_result"
    },
    {
     "data": {
      "image/png": "[encoded data removed]",
      "text/plain": [
       "<matplotlib.figure.Figure at 0x105ca8c18>"
      ]
     },
     "metadata": {},
     "output_type": "display_data"
    }
   ],
   "source": [
    "gamelogs2017= [file for file in os.listdir(\"./gamelogs/2017\") if file.endswith(\"txt\")]\n",
    "\n",
    "gamelogs = []\n",
    "gamelogs += [\"./gamelogs/2017/\"+file for file in gamelogs2017]\n",
    "Lebron_FT  = [\"\".join([\"+\" if \"makes\" in line else \"-\" for line in open(game) if '\\tLeBron' in line and \"free throw\" in line]) for game in gamelogs]\n",
    "\n",
    "n_ft = [len(l) for l in Lebron_FT]\n",
    "poisson_mean = np.mean(n_ft)\n",
    "x = np.arange(20)\n",
    "g1 = poisson.pmf(x,poisson_mean)\n",
    "\n",
    "plt.hist(n_ft, normed=True, bins=10)\n",
    "plt.step(x,g1,color=\"red\")"
   ]
  },
  {
   "cell_type": "code",
   "execution_count": 3,
   "metadata": {
    "collapsed": true
   },
   "outputs": [],
   "source": [
    "bron_0 = infer_model(Lebron_FT,[\"+\",\"-\"],0,0)\n",
    "bron_1 = infer_model(Lebron_FT,[\"+\",\"-\"],1,1)"
   ]
  },
  {
   "cell_type": "code",
   "execution_count": 4,
   "metadata": {
    "collapsed": true
   },
   "outputs": [],
   "source": [
    "trajectories, _ = simulate_freethrows(bron_1[0],poisson_mean, 91)"
   ]
  },
  {
   "cell_type": "code",
   "execution_count": 5,
   "metadata": {
    "collapsed": true
   },
   "outputs": [],
   "source": [
    "def sim_one():\n",
    "    trajectories, _ = simulate_freethrows(bron_1[0],poisson_mean, 91)\n",
    "    crit = evaluate_models([l for l in trajectories if len(l)>0],[\"+\",\"-\"],alpha=1,qbounds = [0,3])\n",
    "    return(crit)\n",
    "\n",
    "def sim_zero():\n",
    "    trajectories, _ = simulate_freethrows(bron_0[0],poisson_mean, 91)\n",
    "    crit = evaluate_models([l for l in trajectories if len(l)>0],[\"+\",\"-\"],alpha=1,qbounds = [0,3])\n",
    "    return(crit)"
   ]
  },
  {
   "cell_type": "code",
   "execution_count": 6,
   "metadata": {},
   "outputs": [
    {
     "data": {
      "text/plain": [
       "{'AIC': {0: 763.1791706727563,\n",
       "  1: 755.89652849523554,\n",
       "  2: 758.00505237147138,\n",
       "  3: 769.52482683260348},\n",
       " 'DIC1': {0: 763.17360428195491,\n",
       "  1: 755.82830492488176,\n",
       "  2: 757.5319778627678,\n",
       "  3: 767.42899535733147},\n",
       " 'DIC2': {0: 763.1707316916951,\n",
       "  1: 755.80330611369334,\n",
       "  2: 757.72495144738662,\n",
       "  3: 770.09461237062044},\n",
       " 'LOO': {0: 762.89025579634381,\n",
       "  1: 755.41935601119212,\n",
       "  2: 757.58145981921939,\n",
       "  3: 768.43823980433433},\n",
       " 'LPD': {0: 760.48651383720789,\n",
       "  1: 747.82327341280575,\n",
       "  2: 739.20417474104624,\n",
       "  3: 730.0459491539342},\n",
       " 'LPPD': {0: 761.48046064820028,\n",
       "  1: 750.39491626621373,\n",
       "  2: 744.56705901951057,\n",
       "  3: 742.12240991192823},\n",
       " 'LPPDCV2': {0: 761.89531706714706,\n",
       "  1: 756.42798941763772,\n",
       "  2: 780.53881204241713,\n",
       "  3: 786.83459357319543},\n",
       " 'WAIC1': {0: 762.87320857622217,\n",
       "  1: 755.34411105105039,\n",
       "  2: 757.1889791826278,\n",
       "  3: 767.00267966913577},\n",
       " 'WAIC2': {0: 762.89001449734417,\n",
       "  1: 755.41772552210136,\n",
       "  2: 757.55603781642583,\n",
       "  3: 768.24629563262545},\n",
       " 'kDIC1': {0: 0.99676966974402603,\n",
       "  1: 2.9587912662503868,\n",
       "  2: 6.6539587616985045,\n",
       "  3: 12.866450566799472},\n",
       " 'kDIC2': {0: 0.99533337461411975,\n",
       "  1: 2.9462918606561743,\n",
       "  2: 6.7504455540079107,\n",
       "  3: 14.199259073443955},\n",
       " 'kWAIC1': {0: 0.6963739640109452,\n",
       "  1: 2.4745973924183318,\n",
       "  2: 6.3109600815586191,\n",
       "  3: 12.440134878603772},\n",
       " 'kWAIC2': {0: 0.70477692457195473,\n",
       "  1: 2.5114046279438362,\n",
       "  2: 6.4944893984576302,\n",
       "  3: 13.061942860348596}}"
      ]
     },
     "execution_count": 6,
     "metadata": {},
     "output_type": "execute_result"
    }
   ],
   "source": [
    "n_sims = 10000\n",
    "\n",
    "results_1 =  Parallel(n_jobs=num_cores)(delayed(sim_one)() for k in range(n_sims))  \n",
    "results_1[0]"
   ]
  },
  {
   "cell_type": "code",
   "execution_count": 7,
   "metadata": {},
   "outputs": [
    {
     "data": {
      "text/plain": [
       "{'AIC': {0: 802.93269308941149,\n",
       "  1: 804.42855322776131,\n",
       "  2: 808.72492552693518,\n",
       "  3: 817.72423578348014},\n",
       " 'DIC1': {0: 802.92741472280704,\n",
       "  1: 804.36147468644629,\n",
       "  2: 808.36609242376562,\n",
       "  3: 815.75270815877047},\n",
       " 'DIC2': {0: 802.92442158509471,\n",
       "  1: 804.33908594667093,\n",
       "  2: 808.17874473412962,\n",
       "  3: 815.90270193689184},\n",
       " 'LOO': {0: 802.73335524906088,\n",
       "  1: 804.13312677992394,\n",
       "  2: 808.50491119994774,\n",
       "  3: 816.57399904436704},\n",
       " 'LPD': {0: 800.24000826547763,\n",
       "  1: 796.355232997401,\n",
       "  2: 789.90559603728207,\n",
       "  3: 777.56623788558727},\n",
       " 'LPPD': {0: 801.14616115818262,\n",
       "  1: 798.75018644822296,\n",
       "  2: 794.97081789675656,\n",
       "  3: 789.01751959490684},\n",
       " 'LPPDCV2': {0: 803.96530900559401,\n",
       "  1: 810.56916744633384,\n",
       "  2: 812.28219960993977,\n",
       "  3: 819.30023658412767},\n",
       " 'WAIC1': {0: 802.71470501878593,\n",
       "  1: 804.05453058330784,\n",
       "  2: 808.17414338441665,\n",
       "  3: 815.13818310929537},\n",
       " 'WAIC2': {0: 802.73309500225491,\n",
       "  1: 804.13166038082068,\n",
       "  2: 808.49219242317713,\n",
       "  3: 816.38170655869237},\n",
       " 'kDIC1': {0: 0.99698163432333331,\n",
       "  1: 2.9591161706808862,\n",
       "  2: 6.7936117831792444,\n",
       "  3: 13.674856806669595},\n",
       " 'kDIC2': {0: 0.99548506546716453,\n",
       "  1: 2.9479218007932104,\n",
       "  2: 6.699937938361245,\n",
       "  3: 13.74985369573028},\n",
       " 'kWAIC1': {0: 0.78427193030165654,\n",
       "  1: 2.6521720675424376,\n",
       "  2: 6.6016627438300475,\n",
       "  3: 13.060331757194263},\n",
       " 'kWAIC2': {0: 0.79346692203616453,\n",
       "  1: 2.6907369662988438,\n",
       "  2: 6.7606872632103077,\n",
       "  3: 13.682093481892753}}"
      ]
     },
     "execution_count": 7,
     "metadata": {},
     "output_type": "execute_result"
    }
   ],
   "source": [
    "results_0 = Parallel(n_jobs=num_cores)(delayed(sim_zero)() for k in range(n_sims))  \n",
    "results_0[20]"
   ]
  },
  {
   "cell_type": "code",
   "execution_count": 8,
   "metadata": {
    "collapsed": true
   },
   "outputs": [],
   "source": [
    "import pickle, gzip\n",
    "\n",
    "with gzip.open('../../freethrow_sims.gz','wb') as f:\n",
    "    pickle.dump([results_0,results_1],f)"
   ]
  },
  {
   "cell_type": "code",
   "execution_count": 9,
   "metadata": {
    "collapsed": true
   },
   "outputs": [],
   "source": [
    "trajectories, _ = simulate_freethrows(bron_0[0],poisson_mean, 91)"
   ]
  },
  {
   "cell_type": "code",
   "execution_count": 10,
   "metadata": {},
   "outputs": [
    {
     "data": {
      "text/plain": [
       "6.615384615384615"
      ]
     },
     "execution_count": 10,
     "metadata": {},
     "output_type": "execute_result"
    }
   ],
   "source": [
    "np.mean([len(l) for l in trajectories])"
   ]
  },
  {
   "cell_type": "code",
   "execution_count": 11,
   "metadata": {},
   "outputs": [
    {
     "data": {
      "text/plain": [
       "6.9299999999999997"
      ]
     },
     "execution_count": 11,
     "metadata": {},
     "output_type": "execute_result"
    }
   ],
   "source": [
    "np.mean([len(l) for l in Lebron_FT])"
   ]
  },
  {
   "cell_type": "code",
   "execution_count": 4,
   "metadata": {},
   "outputs": [
    {
     "data": {
      "text/plain": [
       "6.9299999999999997"
      ]
     },
     "execution_count": 4,
     "metadata": {},
     "output_type": "execute_result"
    }
   ],
   "source": [
    "poisson_mean"
   ]
  },
  {
   "cell_type": "code",
   "execution_count": null,
   "metadata": {
    "collapsed": true
   },
   "outputs": [],
   "source": []
  }
 ],
 "metadata": {
  "kernelspec": {
   "display_name": "Python 3",
   "language": "python",
   "name": "python3"
  },
  "language_info": {
   "codemirror_mode": {
    "name": "ipython",
    "version": 3
   },
   "file_extension": ".py",
   "mimetype": "text/x-python",
   "name": "python",
   "nbconvert_exporter": "python",
   "pygments_lexer": "ipython3",
   "version": "3.6.0"
  }
 },
 "nbformat": 4,
 "nbformat_minor": 2
}
