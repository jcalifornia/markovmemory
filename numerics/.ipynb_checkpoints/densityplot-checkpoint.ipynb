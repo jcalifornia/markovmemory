{
 "cells": [
  {
   "cell_type": "code",
   "execution_count": 1,
   "metadata": {
    "collapsed": false
   },
   "outputs": [
    {
     "name": "stdout",
     "output_type": "stream",
     "text": [
      "Populating the interactive namespace from numpy and matplotlib\n"
     ]
    }
   ],
   "source": [
    "%pylab inline\n",
    "from simulation import *\n",
    "num_cores = multiprocessing.cpu_count() - 1\n",
    "import matplotlib.pyplot as plt\n",
    "from mpl_toolkits.axes_grid.anchored_artists import AnchoredText\n",
    "import sys\n",
    "import matplotlib\n",
    "matplotlib.rcParams['text.usetex'] = True\n",
    "matplotlib.rcParams['text.latex.unicode'] = True\n",
    "import matplotlib.gridspec as gridspec\n",
    "import pickle, gzip\n",
    "from palettable.colorbrewer.qualitative import Set1_5\n",
    "\n",
    "with gzip.open('simulation_results.gz','rb') as f:\n",
    "    results = pickle.load(f)"
   ]
  },
  {
   "cell_type": "code",
   "execution_count": 2,
   "metadata": {
    "collapsed": true
   },
   "outputs": [],
   "source": [
    "q_true = 2 # explore criteria values for q = 2 case\n",
    "criteria = ['WAIC1','WAIC2','LOO','DIC1']\n"
   ]
  },
  {
   "cell_type": "code",
   "execution_count": 3,
   "metadata": {
    "collapsed": false
   },
   "outputs": [
    {
     "data": {
      "text/plain": [
       "5"
      ]
     },
     "execution_count": 3,
     "metadata": {},
     "output_type": "execute_result"
    }
   ],
   "source": [
    "len(results[0])"
   ]
  },
  {
   "cell_type": "code",
   "execution_count": 4,
   "metadata": {
    "collapsed": false
   },
   "outputs": [],
   "source": [
    "# q_real q_assumed measure value\n",
    "\n",
    "widedata = []\n",
    "testvalues = defaultdict(partial(partial(defaultdict,list)))\n",
    "\n",
    "for j,infolist in enumerate(results[q_true-1]):\n",
    "     for result_set in infolist:\n",
    "        # each item is a single set of 10000 replications (should be J of these)\n",
    "        # omit the set of 1024 trajectories as it is not very interesting\n",
    "        sim_data = []\n",
    "        for test in criteria:\n",
    "            # loop over the replications and collect the values\n",
    "            for q,val in result_set[test].items():\n",
    "                testvalues[test][(j,q)] += [val]\n",
    "\n"
   ]
  },
  {
   "cell_type": "code",
   "execution_count": null,
   "metadata": {
    "collapsed": false
   },
   "outputs": [],
   "source": [
    "# histograms here\n",
    "# rows: information\n",
    "# columns: 2^J samples\n",
    "fig = plt.figure(figsize=(20,30))\n",
    "gs0 = gridspec.GridSpec(4,3, hspace = 0.06,wspace=0.16)\n",
    "ax = []\n",
    "matplotlib.rcParams.update({'font.size': 24})\n",
    "\n",
    "pretty_labels = ['$\\Delta$WAIC$_1$','$\\Delta$WAIC$_2$','$\\Delta$LOO','$\\Delta$DIC$_1$']\n",
    "colors = Set1_5.hex_colors\n",
    "\n",
    "for t,test in enumerate(criteria): # enumerate row-wise\n",
    "    for J in range(3):\n",
    "        ax+= [plt.Subplot(fig,gs0[t,J])]\n",
    "        fig.add_subplot(ax[-1])\n",
    "        plotdata = []\n",
    "        baseline = testvalues[test][(J,q_true)]\n",
    "        loc = [1,2,3,4,5]\n",
    "        loc.remove(q_true)\n",
    "        for q in loc:\n",
    "            tempdat = np.array(testvalues[test][(J,q)])-np.array(baseline)\n",
    "            plotdata += [tempdat]\n",
    "\n",
    "        violin_parts = ax[-1].violinplot(plotdata,range(len(loc)), points=100,widths=0.76, showmeans = True)\n",
    "        violin_parts['cbars'].set_color('k')\n",
    "        violin_parts['cbars'].set_linewidth(2)\n",
    "        violin_parts['cmins'].set_color('k')\n",
    "        violin_parts['cmins'].set_linewidth(4)\n",
    "        violin_parts['cmaxes'].set_color('k')\n",
    "        violin_parts['cmaxes'].set_linewidth(4)\n",
    "        violin_parts['cmeans'].set_color('w')\n",
    "        violin_parts['cmeans'].set_linewidth(4)\n",
    "        ax[-1].set_xticks([])\n",
    "        ax[-1].axhline(y=0,linestyle='--',color='k',linewidth=3)\n",
    "\n",
    "        for l,pc in zip(loc,violin_parts['bodies']):\n",
    "            pc.set_color(colors[l-1])\n",
    "            pc.set_alpha(1)\n",
    "\n",
    "        \n",
    "    ax[3*t].set_ylabel(pretty_labels[t],fontsize=32)\n",
    "    \n",
    "        \n",
    "for J in range(3):\n",
    "    ax[-(J+1)].set_xticks(range(len(loc)))\n",
    "    ax[-(J+1)].set_xticklabels([\"$q=\" + str(l) + \"$\" for l in loc],fontsize=28)\n",
    "    ax[J].set_title(\"$J=\" +str(4**(J+1)) + \"$\",fontsize=40)\n",
    "    \n",
    "plt.savefig('../figures/fig3.png',bbox_inches='tight', \n",
    "               transparent=True,\n",
    "               pad_inches=0.15, dpi=400)\n",
    "plt.savefig('../figures/fig3.pdf',bbox_inches='tight', \n",
    "               transparent=True,\n",
    "               pad_inches=0.15, dpi=400)\n"
   ]
  },
  {
   "cell_type": "code",
   "execution_count": null,
   "metadata": {
    "collapsed": true
   },
   "outputs": [],
   "source": []
  }
 ],
 "metadata": {
  "kernelspec": {
   "display_name": "Python 3",
   "language": "python",
   "name": "python3"
  },
  "language_info": {
   "codemirror_mode": {
    "name": "ipython",
    "version": 3
   },
   "file_extension": ".py",
   "mimetype": "text/x-python",
   "name": "python",
   "nbconvert_exporter": "python",
   "pygments_lexer": "ipython3",
   "version": "3.6.0"
  }
 },
 "nbformat": 4,
 "nbformat_minor": 2
}
