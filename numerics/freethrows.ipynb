{
 "cells": [
  {
   "cell_type": "code",
   "execution_count": 1,
   "metadata": {},
   "outputs": [
    {
     "name": "stdout",
     "output_type": "stream",
     "text": [
      "Populating the interactive namespace from numpy and matplotlib\n"
     ]
    }
   ],
   "source": [
    "%pylab inline\n",
    "from simulation import *\n",
    "import matplotlib.pyplot as plt\n",
    "from mpl_toolkits.axes_grid.anchored_artists import AnchoredText\n",
    "import sys\n",
    "import matplotlib\n",
    "matplotlib.rcParams['text.usetex'] = True\n",
    "matplotlib.rcParams['text.latex.unicode'] = True\n",
    "import matplotlib.gridspec as gridspec\n",
    "import os\n"
   ]
  },
  {
   "cell_type": "code",
   "execution_count": 2,
   "metadata": {},
   "outputs": [],
   "source": [
    "gamelogs = [file for file in os.listdir(\"./gamelogs\") if file.endswith(\"txt\")]\n",
    "\n",
    "#gamelogs = [\"nbafinals/game1\"]\n",
    "#gamelogs = [\"nbafinals/game1\",\"nbafinals/game2\",\"nbafinals/game3\",\"nbafinals/game4\",\"nbafinals/game5\"]\n",
    "#gamelogs += [\"nbafinals/cavspacers1\",\"nbafinals/cavspacers2\",\"nbafinals/cavspacers3\",\"nbafinals/cavspacers4\"]\n",
    "#gamelogs += [\"nbafinals/cavsraptors1\",\"nbafinals/cavsraptors2\",\"nbafinals/cavsraptors3\",\"nbafinals/cavsraptors4\"]\n",
    "#gamelogs += [\"nbafinals/cavsceltics1\",\"nbafinals/cavsceltics2\",\"nbafinals/cavsceltics3\",\"nbafinals/cavsceltics4\",\"nbafinals/cavsceltics5\"]"
   ]
  },
  {
   "cell_type": "code",
   "execution_count": 3,
   "metadata": {},
   "outputs": [],
   "source": [
    "Lebron_FT  = [\"\".join([\"+\" if \"makes\" in line else \"-\" for line in open(\"./gamelogs/\"+game) if '\\tLeBron' in line and \"free throw\" in line]) for game in gamelogs]\n",
    "Lebron_3  = [\"\".join([\"+\" if \"makes\" in line else \"-\" for line in open(\"./gamelogs/\"+game) if '\\tLeBron' in line and \"three\" in line]) for game in gamelogs]\n",
    "Kyrie_FT = [\"\".join([\"+\" if \"makes\" in line else \"-\" for line in open(\"./gamelogs/\"+game) if '\\tKyrie Irving' in line and \"free throw\" in line]) for game in gamelogs]\n",
    "Kyrie_3  = [\"\".join([\"+\" if \"makes\" in line else \"-\" for line in open(\"./gamelogs/\"+game) if '\\tKyrie Irving' in line and \"three\" in line]) for game in gamelogs]\n",
    "#Durant_FT  = [\"\".join([\"+\" if \"makes\" in line else \"-\" for line in open(\"./gamelogs/\"+game) if '\\tKevin Durant' in line and \"free throw\" in line]) for game in gamelogs]\n",
    "#Durant_3  = [\"\".join([\"+\" if \"makes\" in line else \"-\" for line in open(\"./gamelogs/\"+game) if '\\tKevin Durant' in line and \"three\" in line]) for game in gamelogs]\n",
    "\n",
    "JR_3 = [\"\".join([\"+\" if \"makes\" in line else \"-\" for line in open(\"./gamelogs/\"+game) if '\\tJR' in line and \"three\" in line]) for game in gamelogs]\n",
    "#Klay_3 = [\"\".join([\"+\" if \"makes\" in line else \"-\" for line in open(\"./gamelogs/\"+game) if '\\tKlay' in line and \"three\" in line]) for game in gamelogs]"
   ]
  },
  {
   "cell_type": "code",
   "execution_count": 11,
   "metadata": {},
   "outputs": [
    {
     "data": {
      "text/plain": [
       "65"
      ]
     },
     "execution_count": 11,
     "metadata": {},
     "output_type": "execute_result"
    }
   ],
   "source": [
    "len(Lebron_3)"
   ]
  },
  {
   "cell_type": "code",
   "execution_count": 12,
   "metadata": {},
   "outputs": [],
   "source": [
    "bron_models = evaluate_models([l for l in Lebron_FT if len(l)>0],[\"+\",\"-\"],alpha=1e-3,qbounds = [0,4])\n"
   ]
  },
  {
   "cell_type": "code",
   "execution_count": 13,
   "metadata": {},
   "outputs": [
    {
     "data": {
      "text/plain": [
       "{'AIC': {0: 593.77934289858911,\n",
       "  1: 598.43194157097332,\n",
       "  2: 610.36141540500216,\n",
       "  3: 637.71395043027371,\n",
       "  4: 686.51815508072764},\n",
       " 'DIC1': {0: 591.78191816865672,\n",
       "  1: 592.4681790416148,\n",
       "  2: 596.61699211050393,\n",
       "  3: 609.14614224840784,\n",
       "  4: 615.98735682727931},\n",
       " 'DIC2': {0: 591.78449338926418,\n",
       "  1: 592.50439948657527,\n",
       "  2: 596.86988089202316,\n",
       "  3: 610.48672612535483,\n",
       "  4: 619.20895429421068},\n",
       " 'LOO': {0: 591.65874161224565,\n",
       "  1: 592.72066291517672,\n",
       "  2: 597.2514406169887,\n",
       "  3: 633.44009965977716,\n",
       "  4: 691.87394011383776},\n",
       " 'LPD': {0: 590.4717465667436,\n",
       "  1: 588.51627067745699,\n",
       "  2: 587.26769768803706,\n",
       "  3: 588.45315749013287,\n",
       "  4: 580.68801352442722},\n",
       " 'LPPD': {0: 589.93635270586492,\n",
       "  1: 586.34070841147582,\n",
       "  2: 582.5767614682469,\n",
       "  3: 578.53416640504531,\n",
       "  4: 563.2994839482385},\n",
       " 'LPPDCV2': {0: 590.40375076957935,\n",
       "  1: 589.17567962181249,\n",
       "  2: 587.17013550958166,\n",
       "  3: 634.26212263923742,\n",
       "  4: 779.68531785238554},\n",
       " 'WAIC1': {0: 591.62490836289044,\n",
       "  1: 592.55941222726619,\n",
       "  2: 596.40164633143797,\n",
       "  3: 608.32592751226628,\n",
       "  4: 615.21801987275194},\n",
       " 'WAIC2': {0: 591.65794285373136,\n",
       "  1: 592.71503055208473,\n",
       "  2: 597.13758758232052,\n",
       "  3: 612.05477342407198,\n",
       "  4: 624.98694936508218},\n",
       " 'kDIC1': {0: 1.0012876342789241,\n",
       "  1: 3.0181187222439121,\n",
       "  2: 7.1277882106613788,\n",
       "  3: 15.716095289752275,\n",
       "  4: 26.728604916783979},\n",
       " 'kDIC2': {0: 1.0025752445826583,\n",
       "  1: 3.0362289447241437,\n",
       "  2: 7.2542326014209948,\n",
       "  3: 16.386387228225772,\n",
       "  4: 28.339403650249665},\n",
       " 'kWAIC1': {0: 0.84427782851275879,\n",
       "  1: 3.1093519078951886,\n",
       "  2: 6.9124424315955366,\n",
       "  3: 14.895880553610482,\n",
       "  4: 25.959267962256718},\n",
       " 'kWAIC2': {0: 0.86079507393322041,\n",
       "  1: 3.1871610703044402,\n",
       "  2: 7.2804130570368315,\n",
       "  3: 16.760303509513331,\n",
       "  4: 30.843732708421864}}"
      ]
     },
     "execution_count": 13,
     "metadata": {},
     "output_type": "execute_result"
    }
   ],
   "source": [
    "bron_models"
   ]
  },
  {
   "cell_type": "code",
   "execution_count": 7,
   "metadata": {
    "collapsed": true
   },
   "outputs": [],
   "source": [
    "bron_0 = infer_model(Lebron_3,[\"+\",\"-\"],0,0)\n",
    "bron_1 = infer_model(Lebron_3,[\"+\",\"-\"],1,1)\n",
    "bron_2 = infer_model(Lebron_3,[\"+\",\"-\"],1,2)\n",
    "bron_3 = infer_model(Lebron_3,[\"+\",\"-\"],1,3)\n",
    "bron_4 = infer_model(Lebron_3,[\"+\",\"-\"],1,4)"
   ]
  },
  {
   "cell_type": "code",
   "execution_count": 14,
   "metadata": {},
   "outputs": [
    {
     "data": {
      "text/plain": [
       "([<matplotlib.axis.XTick at 0x10fd7ee48>,\n",
       "  <matplotlib.axis.XTick at 0x10fd9af60>,\n",
       "  <matplotlib.axis.XTick at 0x10fd74c18>,\n",
       "  <matplotlib.axis.XTick at 0x10fdfaf60>,\n",
       "  <matplotlib.axis.XTick at 0x10fe027b8>],\n",
       " <a list of 5 Text xticklabel objects>)"
      ]
     },
     "execution_count": 14,
     "metadata": {},
     "output_type": "execute_result"
    },
    {
     "data": {
      "image/png": "[encoded data removed]",
      "text/plain": [
       "<matplotlib.figure.Figure at 0x10fcb57f0>"
      ]
     },
     "metadata": {},
     "output_type": "display_data"
    }
   ],
   "source": [
    "\n",
    "\n",
    "plt.plot([v for v in bron_models['LOO'].values()])\n",
    "plt.scatter([0,1,2,3,4],[v for v in bron_models['LOO'].values()])\n",
    "plt.plot([v for v in bron_models['AIC'].values()])\n",
    "plt.scatter([0,1,2,3,4],[v for v in bron_models['AIC'].values()])\n",
    "plt.plot([v for v in bron_models['WAIC1'].values()])\n",
    "plt.scatter([0,1,2,3,4],[v for v in bron_models['WAIC1'].values()])\n",
    "plt.plot([v for v in bron_models['WAIC2'].values()])\n",
    "plt.scatter([0,1,2,3,4],[v for v in bron_models['WAIC2'].values()])\n",
    "\n",
    "\n",
    "plt.xticks([0,1,2,3,4])"
   ]
  },
  {
   "cell_type": "code",
   "execution_count": 15,
   "metadata": {},
   "outputs": [
    {
     "data": {
      "text/plain": [
       "(defaultdict(functools.partial(<built-in function zeros>, 2),\n",
       "             {'+': array([ 0.3877551,  0.6122449]),\n",
       "              '-': array([ 0.39230769,  0.60769231]),\n",
       "              '0': array([ 0.34375,  0.65625])}),\n",
       " defaultdict(functools.partial(<built-in function zeros>, 2),\n",
       "             {'+': array([ 37.,  59.]),\n",
       "              '-': array([ 50.,  78.]),\n",
       "              '0': array([ 21.,  41.])}))"
      ]
     },
     "execution_count": 15,
     "metadata": {},
     "output_type": "execute_result"
    }
   ],
   "source": [
    "bron_1"
   ]
  },
  {
   "cell_type": "code",
   "execution_count": null,
   "metadata": {
    "collapsed": true
   },
   "outputs": [],
   "source": []
  },
  {
   "cell_type": "code",
   "execution_count": null,
   "metadata": {
    "collapsed": true
   },
   "outputs": [],
   "source": []
  }
 ],
 "metadata": {
  "kernelspec": {
   "display_name": "Python 3",
   "language": "python",
   "name": "python3"
  },
  "language_info": {
   "codemirror_mode": {
    "name": "ipython",
    "version": 3
   },
   "file_extension": ".py",
   "mimetype": "text/x-python",
   "name": "python",
   "nbconvert_exporter": "python",
   "pygments_lexer": "ipython3",
   "version": "3.6.0"
  }
 },
 "nbformat": 4,
 "nbformat_minor": 2
}
