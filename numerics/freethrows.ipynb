{
 "cells": [
  {
   "cell_type": "code",
   "execution_count": 1,
   "metadata": {},
   "outputs": [
    {
     "name": "stdout",
     "output_type": "stream",
     "text": [
      "Populating the interactive namespace from numpy and matplotlib\n"
     ]
    }
   ],
   "source": [
    "%pylab inline\n",
    "from simulation import *\n",
    "import matplotlib.pyplot as plt\n",
    "from mpl_toolkits.axes_grid.anchored_artists import AnchoredText\n",
    "import sys\n",
    "import matplotlib\n",
    "matplotlib.rcParams['text.usetex'] = True\n",
    "matplotlib.rcParams['text.latex.unicode'] = True\n",
    "import matplotlib.gridspec as gridspec\n",
    "\n",
    "gamelogs = [\"nbafinals/game1\",\"nbafinals/game2\",\"nbafinals/game3\",\"nbafinals/game4\",\"nbafinals/game5\"]\n",
    "gamelogs += [\"nbafinals/cavspacers1\",\"nbafinals/cavspacers2\",\"nbafinals/cavspacers3\",\"nbafinals/cavspacers4\"]\n",
    "gamelogs += [\"nbafinals/cavsraptors1\",\"nbafinals/cavsraptors2\",\"nbafinals/cavsraptors3\",\"nbafinals/cavsraptors4\"]\n",
    "gamelogs += [\"nbafinals/cavsceltics1\",\"nbafinals/cavsceltics2\",\"nbafinals/cavsceltics3\",\"nbafinals/cavsceltics4\",\"nbafinals/cavsceltics5\"]"
   ]
  },
  {
   "cell_type": "code",
   "execution_count": 2,
   "metadata": {},
   "outputs": [],
   "source": [
    "Lebron_FT  = [\"\".join([\"+\" if \"makes\" in line else \"-\" for line in open(game) if '\\tLeBron' in line and \"free throw\" in line]) for game in gamelogs]\n",
    "Lebron_3  = [\"\".join([\"+\" if \"makes\" in line else \"-\" for line in open(game) if '\\tLeBron' in line and \"three\" in line]) for game in gamelogs]\n",
    "Kyrie_FT = [\"\".join([\"+\" if \"makes\" in line else \"-\" for line in open(game) if '\\tKyrie Irving' in line and \"free throw\" in line]) for game in gamelogs]\n",
    "Kyrie_3  = [\"\".join([\"+\" if \"makes\" in line else \"-\" for line in open(game) if '\\tKyrie Irving' in line and \"three\" in line]) for game in gamelogs]\n",
    "JR_3 = [\"\".join([\"+\" if \"makes\" in line else \"-\" for line in open(game) if '\\tJR' in line and \"three\" in line]) for game in gamelogs]\n",
    "Klay_3 = [\"\".join([\"+\" if \"makes\" in line else \"-\" for line in open(game) if '\\tKlay' in line and \"three\" in line]) for game in gamelogs]"
   ]
  },
  {
   "cell_type": "code",
   "execution_count": 3,
   "metadata": {},
   "outputs": [
    {
     "data": {
      "text/plain": [
       "{'AIC': {0: 135.58032779707997,\n",
       "  1: 112.9602481731032,\n",
       "  2: 125.11505511448792,\n",
       "  3: 149.32415307604111,\n",
       "  4: 176.73109279474963,\n",
       "  5: 188.04642648768277},\n",
       " 'DIC1': {0: 133.59092084891518,\n",
       "  1: 109.01425620585184,\n",
       "  2: 113.67571546310411,\n",
       "  3: 122.4708738983429,\n",
       "  4: 100.23307573005049,\n",
       "  5: 89.343089093640799},\n",
       " 'DIC2': {0: 133.60151219476609,\n",
       "  1: 109.06821386819092,\n",
       "  2: 114.22893545131932,\n",
       "  3: 125.34118992201066,\n",
       "  4: 103.39454350082384,\n",
       "  5: 92.342228185411869},\n",
       " 'LOO': {0: 133.3509397224949,\n",
       "  1: 109.43023967356677,\n",
       "  2: 114.7421399977521,\n",
       "  3: 194.14164502696985,\n",
       "  4: 217.22512249192243,\n",
       "  5: 198.01923710153073},\n",
       " 'LPD': {0: 132.27473183402174,\n",
       "  1: 106.3572489209775,\n",
       "  2: 105.40592793349674,\n",
       "  3: 103.11775633307114,\n",
       "  4: 81.914013352581762,\n",
       "  5: 72.478655084846423},\n",
       " 'LPPD': {0: 131.8991907200608,\n",
       "  1: 104.93305482850857,\n",
       "  2: 101.83107476639252,\n",
       "  3: 94.725235297110174,\n",
       "  4: 73.099512273697044,\n",
       "  5: 64.978555516587534},\n",
       " 'LPPDCV2': {0: 132.32028795522166,\n",
       "  1: 111.52320778051067,\n",
       "  2: 135.30413308806635,\n",
       "  3: 289.59071872599179,\n",
       "  4: 273.85122271117285,\n",
       "  5: 237.85630160581474},\n",
       " 'WAIC1': {0: 133.27205792659572,\n",
       "  1: 109.04144955937738,\n",
       "  2: 112.95969601109503,\n",
       "  3: 121.07179259799821,\n",
       "  4: 99.892625376182778,\n",
       "  5: 88.450914708465291},\n",
       " 'WAIC2': {0: 133.34569287587681,\n",
       "  1: 109.38886772693307,\n",
       "  2: 114.42088404908733,\n",
       "  3: 129.78532936320977,\n",
       "  4: 110.5229138392092,\n",
       "  5: 97.82620701419971},\n",
       " 'kDIC1': {0: 1.005296525586914,\n",
       "  1: 2.0270040119088435,\n",
       "  2: 6.2803300743603216,\n",
       "  3: 14.572359950788709,\n",
       "  4: 13.737006905110576,\n",
       "  5: 12.628353981114387},\n",
       " 'kDIC2': {0: 1.01059219851237,\n",
       "  1: 2.0539828430783871,\n",
       "  2: 6.5569400684679238,\n",
       "  3: 16.007517962622586,\n",
       "  4: 15.317740790497254,\n",
       "  5: 14.127923526999922},\n",
       " 'kWAIC1': {0: 0.68643360326746006,\n",
       "  1: 2.0541973654344048,\n",
       "  2: 5.5643106223512575,\n",
       "  3: 13.173278650444018,\n",
       "  4: 13.396556551242867,\n",
       "  5: 11.736179595938879},\n",
       " 'kWAIC2': {0: 0.7232510779080028,\n",
       "  1: 2.2279064492122513,\n",
       "  2: 6.2949046413474061,\n",
       "  3: 17.530047033049794,\n",
       "  4: 18.711700782756072,\n",
       "  5: 16.423825748806088}}"
      ]
     },
     "execution_count": 3,
     "metadata": {},
     "output_type": "execute_result"
    }
   ],
   "source": [
    "evaluate_models(Lebron_3,[\"+\",\"-\"],alpha=1e-3,qbounds = [0,5])"
   ]
  },
  {
   "cell_type": "code",
   "execution_count": 4,
   "metadata": {},
   "outputs": [
    {
     "data": {
      "text/plain": [
       "{'AIC': {0: 202.59317637146205,\n",
       "  1: 181.84724200353628,\n",
       "  2: 194.34618266153188,\n",
       "  3: 218.42818407383865,\n",
       "  4: 248.89441017885306,\n",
       "  5: 290.11258109484726},\n",
       " 'DIC1': {0: 200.6008369354883,\n",
       "  1: 177.8906050093012,\n",
       "  2: 183.03729519418962,\n",
       "  3: 188.73788840202053,\n",
       "  4: 179.23145403962104,\n",
       "  5: 165.86124963223398},\n",
       " 'DIC2': {0: 200.60849663796654,\n",
       "  1: 177.93392009720637,\n",
       "  2: 183.68168832747662,\n",
       "  3: 190.84445560798844,\n",
       "  4: 183.16273603174153,\n",
       "  5: 171.01694034049956},\n",
       " 'LOO': {0: 200.85344932729208,\n",
       "  1: 178.02095360566392,\n",
       "  2: 195.03018476841035,\n",
       "  3: 249.97117978092359,\n",
       "  4: 305.78905492721526,\n",
       "  5: 371.24612251991965},\n",
       " 'LPD': {0: 199.28684936641753,\n",
       "  1: 175.24159001043265,\n",
       "  2: 174.67200954482547,\n",
       "  3: 171.31583205085695,\n",
       "  4: 153.75191596798169,\n",
       "  5: 136.70549884669092},\n",
       " 'LPPD': {0: 198.50606226315085,\n",
       "  1: 174.02123829507303,\n",
       "  2: 171.1976357066103,\n",
       "  3: 163.77401083206726,\n",
       "  4: 142.7680070563907,\n",
       "  5: 123.82301085817157},\n",
       " 'LPPDCV2': {0: 211.02308141748313,\n",
       "  1: 187.46583666005802,\n",
       "  2: 204.75978816225546,\n",
       "  3: 249.98089379852865,\n",
       "  4: 420.82670653773579,\n",
       "  5: 428.74413442915727},\n",
       " 'WAIC1': {0: 200.68795104836568,\n",
       "  1: 177.71660874621392,\n",
       "  2: 182.18584300164969,\n",
       "  3: 187.3960585595112,\n",
       "  4: 177.37783763170975,\n",
       "  5: 164.19676932326581},\n",
       " 'WAIC2': {0: 200.83972435469471,\n",
       "  1: 177.99114143412285,\n",
       "  2: 184.21128374396022,\n",
       "  3: 194.07202826191872,\n",
       "  4: 189.75723434337223,\n",
       "  5: 181.3322376602934},\n",
       " 'kDIC1': {0: 1.0038302797299821,\n",
       "  1: 2.0216814886576913,\n",
       "  2: 6.3455558400595748,\n",
       "  3: 13.152853706231298,\n",
       "  4: 19.158531695570787,\n",
       "  5: 21.851359541515279},\n",
       " 'kDIC2': {0: 1.0076601309691,\n",
       "  1: 2.0433390326102767,\n",
       "  2: 6.6677524067030731,\n",
       "  3: 14.206137309215251,\n",
       "  4: 21.124172691631031,\n",
       "  5: 24.42920489564807},\n",
       " 'kWAIC1': {0: 1.0909443926074118,\n",
       "  1: 1.8476852255704443,\n",
       "  2: 5.4941036475196938,\n",
       "  3: 11.811023863721971,\n",
       "  4: 17.304915287659526,\n",
       "  5: 20.186879232547128},\n",
       " 'kWAIC2': {0: 1.1668310457719269,\n",
       "  1: 1.9849515695249118,\n",
       "  2: 6.5068240186749611,\n",
       "  3: 15.149008714925726,\n",
       "  4: 23.494613643490762,\n",
       "  5: 28.754613401060908}}"
      ]
     },
     "execution_count": 4,
     "metadata": {},
     "output_type": "execute_result"
    }
   ],
   "source": [
    "evaluate_models(Lebron_FT,[\"+\",\"-\"],alpha=1e-3,qbounds = [0,5])"
   ]
  },
  {
   "cell_type": "code",
   "execution_count": 5,
   "metadata": {},
   "outputs": [
    {
     "data": {
      "text/plain": [
       "(defaultdict(functools.partial(<built-in function zeros>, 2),\n",
       "             {'+': array([ 0.35898159,  0.64101841]),\n",
       "              '-': array([ 0.51281986,  0.48718014])}),\n",
       " defaultdict(functools.partial(<built-in function zeros>, 2),\n",
       "             {'+': array([ 14.,  25.]), '-': array([ 20.,  19.])}))"
      ]
     },
     "execution_count": 5,
     "metadata": {},
     "output_type": "execute_result"
    }
   ],
   "source": [
    "infer_model(Lebron_3,[\"+\",\"-\"],1e-3,1)"
   ]
  },
  {
   "cell_type": "code",
   "execution_count": 6,
   "metadata": {},
   "outputs": [
    {
     "data": {
      "text/plain": [
       "(defaultdict(functools.partial(<built-in function zeros>, 2),\n",
       "             {'+': array([ 0.70873381,  0.29126619]),\n",
       "              '-': array([ 0.70730696,  0.29269304])}),\n",
       " defaultdict(functools.partial(<built-in function zeros>, 2),\n",
       "             {'+': array([ 73.,  30.]), '-': array([ 29.,  12.])}))"
      ]
     },
     "execution_count": 6,
     "metadata": {},
     "output_type": "execute_result"
    }
   ],
   "source": [
    "infer_model(Lebron_FT,[\"+\",\"-\"],1e-3,1)"
   ]
  },
  {
   "cell_type": "code",
   "execution_count": 7,
   "metadata": {},
   "outputs": [
    {
     "data": {
      "text/plain": [
       "(defaultdict(functools.partial(<built-in function zeros>, 2),\n",
       "             {'': array([ 0.69752843,  0.30247157])}),\n",
       " defaultdict(functools.partial(<built-in function zeros>, 2),\n",
       "             {'': array([ 113.,   49.])}))"
      ]
     },
     "execution_count": 7,
     "metadata": {},
     "output_type": "execute_result"
    }
   ],
   "source": [
    "infer_model(Lebron_FT,[\"+\",\"-\"],1e-3,0)"
   ]
  },
  {
   "cell_type": "code",
   "execution_count": 8,
   "metadata": {},
   "outputs": [
    {
     "data": {
      "text/plain": [
       "['-+-+++++++--',\n",
       " '+-+++',\n",
       " '-+++++',\n",
       " '+-++--++-+',\n",
       " '+---',\n",
       " '++++--+-+',\n",
       " '++-+--',\n",
       " '-+++--++--+-+-',\n",
       " '-++++-++-',\n",
       " '+++-++++',\n",
       " '+++-+--+-++++++++-++-',\n",
       " '+++++-++++++++++',\n",
       " '+++++++-+',\n",
       " '-+++++++++-',\n",
       " '+-+-',\n",
       " '-++--+',\n",
       " '+-++',\n",
       " '---+++++']"
      ]
     },
     "execution_count": 8,
     "metadata": {},
     "output_type": "execute_result"
    }
   ],
   "source": [
    "Lebron_FT"
   ]
  },
  {
   "cell_type": "code",
   "execution_count": null,
   "metadata": {
    "collapsed": true
   },
   "outputs": [],
   "source": []
  }
 ],
 "metadata": {
  "kernelspec": {
   "display_name": "Python 3",
   "language": "python",
   "name": "python3"
  },
  "language_info": {
   "codemirror_mode": {
    "name": "ipython",
    "version": 3
   },
   "file_extension": ".py",
   "mimetype": "text/x-python",
   "name": "python",
   "nbconvert_exporter": "python",
   "pygments_lexer": "ipython3",
   "version": "3.6.0"
  }
 },
 "nbformat": 4,
 "nbformat_minor": 2
}
