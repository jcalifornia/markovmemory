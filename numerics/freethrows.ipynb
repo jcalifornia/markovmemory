{
 "cells": [
  {
   "cell_type": "code",
   "execution_count": 1,
   "metadata": {},
   "outputs": [
    {
     "name": "stdout",
     "output_type": "stream",
     "text": [
      "Populating the interactive namespace from numpy and matplotlib\n"
     ]
    }
   ],
   "source": [
    "%pylab inline\n",
    "from simulation import *\n",
    "import matplotlib.pyplot as plt\n",
    "from mpl_toolkits.axes_grid.anchored_artists import AnchoredText\n",
    "import sys\n",
    "import matplotlib\n",
    "matplotlib.rcParams['text.usetex'] = True\n",
    "matplotlib.rcParams['text.latex.unicode'] = True\n",
    "import matplotlib.gridspec as gridspec\n",
    "import os\n"
   ]
  },
  {
   "cell_type": "code",
   "execution_count": 2,
   "metadata": {
    "collapsed": true
   },
   "outputs": [],
   "source": [
    "gamelogs = [file for file in os.listdir(\"./gamelogs\") if file.endswith(\"txt\")]\n",
    "\n",
    "#gamelogs = [\"nbafinals/game1\"]\n",
    "#gamelogs = [\"nbafinals/game1\",\"nbafinals/game2\",\"nbafinals/game3\",\"nbafinals/game4\",\"nbafinals/game5\"]\n",
    "#gamelogs += [\"nbafinals/cavspacers1\",\"nbafinals/cavspacers2\",\"nbafinals/cavspacers3\",\"nbafinals/cavspacers4\"]\n",
    "#gamelogs += [\"nbafinals/cavsraptors1\",\"nbafinals/cavsraptors2\",\"nbafinals/cavsraptors3\",\"nbafinals/cavsraptors4\"]\n",
    "#gamelogs += [\"nbafinals/cavsceltics1\",\"nbafinals/cavsceltics2\",\"nbafinals/cavsceltics3\",\"nbafinals/cavsceltics4\",\"nbafinals/cavsceltics5\"]"
   ]
  },
  {
   "cell_type": "code",
   "execution_count": 3,
   "metadata": {
    "collapsed": true
   },
   "outputs": [],
   "source": [
    "Lebron_FT  = [\"\".join([\"+\" if \"makes\" in line else \"-\" for line in open(\"./gamelogs/\"+game) if '\\tLeBron' in line and \"free throw\" in line]) for game in gamelogs]\n",
    "Lebron_3  = [\"\".join([\"+\" if \"makes\" in line else \"-\" for line in open(\"./gamelogs/\"+game) if '\\tLeBron' in line and \"three\" in line]) for game in gamelogs]\n",
    "Lebron_jumper  = [\"\".join([\"+\" if \"makes\" in line else \"-\" for line in open(\"./gamelogs/\"+game) if '\\tLeBron' in line and \"jumper\" in line]) for game in gamelogs]\n",
    "\n",
    "Kyrie_FT = [\"\".join([\"+\" if \"makes\" in line else \"-\" for line in open(\"./gamelogs/\"+game) if '\\tKyrie Irving' in line and \"free throw\" in line]) for game in gamelogs]\n",
    "Kyrie_3  = [\"\".join([\"+\" if \"makes\" in line else \"-\" for line in open(\"./gamelogs/\"+game) if '\\tKyrie Irving' in line and \"three\" in line]) for game in gamelogs]\n",
    "Kyrie_jumper = [\"\".join([\"+\" if \"makes\" in line else \"-\" for line in open(\"./gamelogs/\"+game) if '\\tKyrie Irving' in line and \"jumper\" in line]) for game in gamelogs]\n",
    "\n",
    "JR_3 = [\"\".join([\"+\" if \"makes\" in line else \"-\" for line in open(\"./gamelogs/\"+game) if '\\tJR' in line and \"three\" in line]) for game in gamelogs]\n",
    "#Klay_3 = [\"\".join([\"+\" if \"makes\" in line else \"-\" for line in open(\"./gamelogs/\"+game) if '\\tKlay' in line and \"three\" in line]) for game in gamelogs]"
   ]
  },
  {
   "cell_type": "code",
   "execution_count": 4,
   "metadata": {
    "collapsed": true
   },
   "outputs": [],
   "source": [
    "bron_models_3 = evaluate_models([l for l in Lebron_3 if len(l)>0],[\"+\",\"-\"],alpha=1,qbounds = [0,4])\n",
    "bron_models_FT = evaluate_models([l for l in Lebron_FT if len(l)>0],[\"+\",\"-\"],alpha=1,qbounds = [0,4])\n",
    "bron_models_jumper = evaluate_models([l for l in Lebron_jumper if len(l)>0],[\"+\",\"-\"],alpha=1,qbounds = [0,4])\n",
    "\n",
    "kyrie_models_3 = evaluate_models([l for l in Kyrie_3 if len(l)>0],[\"+\",\"-\"],alpha=1,qbounds = [0,4])\n",
    "kyrie_models_FT = evaluate_models([l for l in Kyrie_FT if len(l)>0],[\"+\",\"-\"],alpha=1,qbounds = [0,4])\n",
    "kyrie_models_jumper = evaluate_models([l for l in Kyrie_jumper if len(l)>0],[\"+\",\"-\"],alpha=1,qbounds = [0,4])\n",
    "\n",
    "JR_models_3 = evaluate_models([l for l in JR_3 if len(l)>0],[\"+\",\"-\"],alpha=1,qbounds = [0,4])\n"
   ]
  },
  {
   "cell_type": "code",
   "execution_count": 5,
   "metadata": {},
   "outputs": [
    {
     "data": {
      "text/plain": [
       "{'AIC': {0: 873.20249676244839,\n",
       "  1: 877.40329241488053,\n",
       "  2: 888.77100102435656,\n",
       "  3: 907.23450280113082,\n",
       "  4: 960.22692475224744},\n",
       " 'DIC1': {0: 871.19761104505756,\n",
       "  1: 871.34013134999918,\n",
       "  2: 874.40285217013309,\n",
       "  3: 875.22501158659986,\n",
       "  4: 890.46348552870063},\n",
       " 'DIC2': {0: 871.19528434756785,\n",
       "  1: 871.31266077053965,\n",
       "  2: 874.32453882279867,\n",
       "  3: 875.28008827235124,\n",
       "  4: 896.39583727285526},\n",
       " 'LOO': {0: 871.13173404602094,\n",
       "  1: 871.58570743784128,\n",
       "  2: 874.53156217105789,\n",
       "  3: 876.1167330151859,\n",
       "  4: 894.4223706333579},\n",
       " 'LPD': {0: 868.5097816351863,\n",
       "  1: 863.3295328455788,\n",
       "  2: 855.95421909502397,\n",
       "  3: 837.07790893951676,\n",
       "  4: 818.21450513268428},\n",
       " 'LPPD': {0: 869.29379896084993,\n",
       "  1: 865.27090823189928,\n",
       "  2: 861.09133888923816,\n",
       "  3: 848.42324743226891,\n",
       "  4: 843.2434885492147},\n",
       " 'LPPDCV2': {0: 870.24084815305832,\n",
       "  1: 880.21199811725376,\n",
       "  2: 878.48686326987752,\n",
       "  3: 884.91489861620232,\n",
       "  4: 920.66111486566831},\n",
       " 'WAIC1': {0: 871.10715908712382,\n",
       "  1: 871.4842111278017,\n",
       "  2: 874.17640181283377,\n",
       "  3: 874.68339034597579,\n",
       "  4: 889.85927271331263},\n",
       " 'WAIC2': {0: 871.13133850216025,\n",
       "  1: 871.58349036265861,\n",
       "  2: 874.51397189402223,\n",
       "  3: 875.92619245025026,\n",
       "  4: 893.63255823034388},\n",
       " 'kDIC1': {0: 0.99713202107079724,\n",
       "  1: 2.9625716701484635,\n",
       "  2: 6.7689818190975757,\n",
       "  3: 13.671692697477511,\n",
       "  4: 23.912104897437189},\n",
       " 'kDIC2': {0: 0.99596867232594377,\n",
       "  1: 2.9488363804186974,\n",
       "  2: 6.7298251454303681,\n",
       "  3: 13.699231040353197,\n",
       "  4: 26.878280769514504},\n",
       " 'kWAIC1': {0: 0.90668006313694605,\n",
       "  1: 3.106651447951208,\n",
       "  2: 6.5425314617978074,\n",
       "  3: 13.130071456853443,\n",
       "  4: 23.307892082048966},\n",
       " 'kWAIC2': {0: 0.91876977065513243,\n",
       "  1: 3.1562910653796861,\n",
       "  2: 6.7113165023920223,\n",
       "  3: 13.751472508990652,\n",
       "  4: 25.194534840564593}}"
      ]
     },
     "execution_count": 5,
     "metadata": {},
     "output_type": "execute_result"
    }
   ],
   "source": [
    "bron_models_FT"
   ]
  },
  {
   "cell_type": "code",
   "execution_count": 6,
   "metadata": {
    "collapsed": true
   },
   "outputs": [],
   "source": [
    "bron_0 = infer_model(Lebron_3,[\"+\",\"-\"],0,0)\n",
    "bron_1 = infer_model(Lebron_3,[\"+\",\"-\"],1,1)\n",
    "bron_2 = infer_model(Lebron_3,[\"+\",\"-\"],1,2)\n",
    "bron_3 = infer_model(Lebron_3,[\"+\",\"-\"],1,3)\n",
    "bron_4 = infer_model(Lebron_3,[\"+\",\"-\"],1,4)"
   ]
  },
  {
   "cell_type": "code",
   "execution_count": 7,
   "metadata": {},
   "outputs": [
    {
     "data": {
      "text/plain": [
       "([<matplotlib.axis.XTick at 0x111bca828>,\n",
       "  <matplotlib.axis.XTick at 0x111be13c8>,\n",
       "  <matplotlib.axis.XTick at 0x111bdb9b0>,\n",
       "  <matplotlib.axis.XTick at 0x111c655f8>,\n",
       "  <matplotlib.axis.XTick at 0x111c65fd0>],\n",
       " <a list of 5 Text xticklabel objects>)"
      ]
     },
     "execution_count": 7,
     "metadata": {},
     "output_type": "execute_result"
    },
    {
     "data": {
      "image/png": "[encoded data removed]",
      "text/plain": [
       "<matplotlib.figure.Figure at 0x111bb7908>"
      ]
     },
     "metadata": {},
     "output_type": "display_data"
    }
   ],
   "source": [
    "\n",
    "\n",
    "plt.plot([v for v in bron_models_3['LOO'].values()])\n",
    "plt.scatter([0,1,2,3,4],[v for v in bron_models_3['LOO'].values()])\n",
    "plt.plot([v for v in bron_models_3['AIC'].values()])\n",
    "plt.scatter([0,1,2,3,4],[v for v in bron_models_3['AIC'].values()])\n",
    "plt.plot([v for v in bron_models_3['WAIC1'].values()])\n",
    "plt.scatter([0,1,2,3,4],[v for v in bron_models_3['WAIC1'].values()])\n",
    "plt.plot([v for v in bron_models_3['WAIC2'].values()])\n",
    "plt.scatter([0,1,2,3,4],[v for v in bron_models_3['WAIC2'].values()])\n",
    "\n",
    "\n",
    "plt.xticks([0,1,2,3,4])\n"
   ]
  },
  {
   "cell_type": "code",
   "execution_count": 8,
   "metadata": {},
   "outputs": [
    {
     "data": {
      "text/plain": [
       "([<matplotlib.axis.XTick at 0x111d3f198>,\n",
       "  <matplotlib.axis.XTick at 0x111d34780>,\n",
       "  <matplotlib.axis.XTick at 0x111d42080>,\n",
       "  <matplotlib.axis.XTick at 0x111dbd630>,\n",
       "  <matplotlib.axis.XTick at 0x111dbde48>],\n",
       " <a list of 5 Text xticklabel objects>)"
      ]
     },
     "execution_count": 8,
     "metadata": {},
     "output_type": "execute_result"
    },
    {
     "data": {
      "image/png": "[encoded data removed]",
      "text/plain": [
       "<matplotlib.figure.Figure at 0x111c5ef28>"
      ]
     },
     "metadata": {},
     "output_type": "display_data"
    }
   ],
   "source": [
    "\n",
    "\n",
    "plt.plot([v for v in bron_models_FT['LOO'].values()])\n",
    "plt.scatter([0,1,2,3,4],[v for v in bron_models_FT['LOO'].values()])\n",
    "plt.plot([v for v in bron_models_FT['AIC'].values()])\n",
    "plt.scatter([0,1,2,3,4],[v for v in bron_models_FT['AIC'].values()])\n",
    "plt.plot([v for v in bron_models_FT['WAIC1'].values()])\n",
    "plt.scatter([0,1,2,3,4],[v for v in bron_models_FT['WAIC1'].values()])\n",
    "plt.plot([v for v in bron_models_FT['WAIC2'].values()])\n",
    "plt.scatter([0,1,2,3,4],[v for v in bron_models_FT['WAIC2'].values()])\n",
    "\n",
    "\n",
    "plt.xticks([0,1,2,3,4])\n"
   ]
  },
  {
   "cell_type": "code",
   "execution_count": 9,
   "metadata": {},
   "outputs": [
    {
     "data": {
      "text/plain": [
       "{'AIC': {0: 873.20249676244839,\n",
       "  1: 877.40329241488053,\n",
       "  2: 888.77100102435656,\n",
       "  3: 907.23450280113082,\n",
       "  4: 960.22692475224744},\n",
       " 'DIC1': {0: 871.19761104505756,\n",
       "  1: 871.34013134999918,\n",
       "  2: 874.40285217013309,\n",
       "  3: 875.22501158659986,\n",
       "  4: 890.46348552870063},\n",
       " 'DIC2': {0: 871.19528434756785,\n",
       "  1: 871.31266077053965,\n",
       "  2: 874.32453882279867,\n",
       "  3: 875.28008827235124,\n",
       "  4: 896.39583727285526},\n",
       " 'LOO': {0: 871.13173404602094,\n",
       "  1: 871.58570743784128,\n",
       "  2: 874.53156217105789,\n",
       "  3: 876.1167330151859,\n",
       "  4: 894.4223706333579},\n",
       " 'LPD': {0: 868.5097816351863,\n",
       "  1: 863.3295328455788,\n",
       "  2: 855.95421909502397,\n",
       "  3: 837.07790893951676,\n",
       "  4: 818.21450513268428},\n",
       " 'LPPD': {0: 869.29379896084993,\n",
       "  1: 865.27090823189928,\n",
       "  2: 861.09133888923816,\n",
       "  3: 848.42324743226891,\n",
       "  4: 843.2434885492147},\n",
       " 'LPPDCV2': {0: 870.24084815305832,\n",
       "  1: 880.21199811725376,\n",
       "  2: 878.48686326987752,\n",
       "  3: 884.91489861620232,\n",
       "  4: 920.66111486566831},\n",
       " 'WAIC1': {0: 871.10715908712382,\n",
       "  1: 871.4842111278017,\n",
       "  2: 874.17640181283377,\n",
       "  3: 874.68339034597579,\n",
       "  4: 889.85927271331263},\n",
       " 'WAIC2': {0: 871.13133850216025,\n",
       "  1: 871.58349036265861,\n",
       "  2: 874.51397189402223,\n",
       "  3: 875.92619245025026,\n",
       "  4: 893.63255823034388},\n",
       " 'kDIC1': {0: 0.99713202107079724,\n",
       "  1: 2.9625716701484635,\n",
       "  2: 6.7689818190975757,\n",
       "  3: 13.671692697477511,\n",
       "  4: 23.912104897437189},\n",
       " 'kDIC2': {0: 0.99596867232594377,\n",
       "  1: 2.9488363804186974,\n",
       "  2: 6.7298251454303681,\n",
       "  3: 13.699231040353197,\n",
       "  4: 26.878280769514504},\n",
       " 'kWAIC1': {0: 0.90668006313694605,\n",
       "  1: 3.106651447951208,\n",
       "  2: 6.5425314617978074,\n",
       "  3: 13.130071456853443,\n",
       "  4: 23.307892082048966},\n",
       " 'kWAIC2': {0: 0.91876977065513243,\n",
       "  1: 3.1562910653796861,\n",
       "  2: 6.7113165023920223,\n",
       "  3: 13.751472508990652,\n",
       "  4: 25.194534840564593}}"
      ]
     },
     "execution_count": 9,
     "metadata": {},
     "output_type": "execute_result"
    }
   ],
   "source": [
    "bron_models_FT"
   ]
  },
  {
   "cell_type": "code",
   "execution_count": 10,
   "metadata": {},
   "outputs": [
    {
     "data": {
      "text/plain": [
       "{'AIC': {0: 541.5914734537746,\n",
       "  1: 549.50645860498867,\n",
       "  2: 560.59405220362578,\n",
       "  3: 583.45426792066564,\n",
       "  4: 632.94588780435697},\n",
       " 'DIC1': {0: 539.58367147886588,\n",
       "  1: 543.43065225487999,\n",
       "  2: 546.17147097149211,\n",
       "  3: 551.13139128123271,\n",
       "  4: 559.61654882873017},\n",
       " 'DIC2': {0: 539.57811355757508,\n",
       "  1: 543.37688218779454,\n",
       "  2: 545.91908324554868,\n",
       "  3: 550.19071380415653,\n",
       "  4: 559.7993332168935},\n",
       " 'LOO': {0: 539.32921096332757,\n",
       "  1: 543.27932999176983,\n",
       "  2: 546.39122585613939,\n",
       "  3: 552.26154691024362,\n",
       "  4: 566.31561427584825},\n",
       " 'LPD': {0: 536.89899982846146,\n",
       "  1: 535.43362826049542,\n",
       "  2: 527.78019458997858,\n",
       "  3: 513.29282896704967,\n",
       "  4: 490.15766251207469},\n",
       " 'LPPD': {0: 537.86582749820263,\n",
       "  1: 537.75860747442687,\n",
       "  2: 532.84318666048034,\n",
       "  3: 524.39879283530468,\n",
       "  4: 513.77714772407671},\n",
       " 'LPPDCV2': {0: 539.72063956781858,\n",
       "  1: 542.80641882999078,\n",
       "  2: 552.18225956115975,\n",
       "  3: 569.46451694309906,\n",
       "  4: 586.12147011171851},\n",
       " 'WAIC1': {0: 539.31005752806186,\n",
       "  1: 543.18557726420215,\n",
       "  2: 545.97552473442602,\n",
       "  3: 550.59717538338873,\n",
       "  4: 559.14475541978436},\n",
       " 'WAIC2': {0: 539.32889190329706,\n",
       "  1: 543.27711216419095,\n",
       "  2: 546.37009694880601,\n",
       "  3: 552.09623798674727,\n",
       "  4: 564.73186112312897},\n",
       " 'kDIC1': {0: 0.99572896573329217,\n",
       "  1: 2.9585598855653643,\n",
       "  2: 6.7621152740390471,\n",
       "  3: 13.633407171886006,\n",
       "  4: 23.155597256799638},\n",
       " 'kDIC2': {0: 0.99295000508789144,\n",
       "  1: 2.9316748520226383,\n",
       "  2: 6.6359214110673292,\n",
       "  3: 13.163068433347917,\n",
       "  4: 23.246989450881301},\n",
       " 'kWAIC1': {0: 0.72211501492961361,\n",
       "  1: 2.7134848948876424,\n",
       "  2: 6.5661690369728376,\n",
       "  3: 13.099191274042028,\n",
       "  4: 22.683803847853824},\n",
       " 'kWAIC2': {0: 0.73153220254724194,\n",
       "  1: 2.7592523448820505,\n",
       "  2: 6.7634551441628075,\n",
       "  3: 13.848722575721297,\n",
       "  4: 25.477356699526123}}"
      ]
     },
     "execution_count": 10,
     "metadata": {},
     "output_type": "execute_result"
    }
   ],
   "source": [
    "bron_models_3"
   ]
  },
  {
   "cell_type": "code",
   "execution_count": null,
   "metadata": {
    "collapsed": true
   },
   "outputs": [],
   "source": []
  }
 ],
 "metadata": {
  "kernelspec": {
   "display_name": "Python 3",
   "language": "python",
   "name": "python3"
  },
  "language_info": {
   "codemirror_mode": {
    "name": "ipython",
    "version": 3
   },
   "file_extension": ".py",
   "mimetype": "text/x-python",
   "name": "python",
   "nbconvert_exporter": "python",
   "pygments_lexer": "ipython3",
   "version": "3.6.0"
  }
 },
 "nbformat": 4,
 "nbformat_minor": 2
}
