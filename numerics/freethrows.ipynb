{
 "cells": [
  {
   "cell_type": "code",
   "execution_count": 1,
   "metadata": {},
   "outputs": [
    {
     "name": "stdout",
     "output_type": "stream",
     "text": [
      "Populating the interactive namespace from numpy and matplotlib\n"
     ]
    }
   ],
   "source": [
    "%pylab inline\n",
    "from simulation import *\n",
    "import matplotlib.pyplot as plt\n",
    "from mpl_toolkits.axes_grid.anchored_artists import AnchoredText\n",
    "import sys\n",
    "import matplotlib\n",
    "matplotlib.rcParams['text.usetex'] = True\n",
    "matplotlib.rcParams['text.latex.unicode'] = True\n",
    "import matplotlib.gridspec as gridspec\n"
   ]
  },
  {
   "cell_type": "code",
   "execution_count": 2,
   "metadata": {
    "collapsed": true
   },
   "outputs": [],
   "source": [
    "#gamelogs = [\"nbafinals/game1\"]\n",
    "gamelogs = [\"nbafinals/game1\",\"nbafinals/game2\",\"nbafinals/game3\",\"nbafinals/game4\",\"nbafinals/game5\"]\n",
    "gamelogs += [\"nbafinals/cavspacers1\",\"nbafinals/cavspacers2\",\"nbafinals/cavspacers3\",\"nbafinals/cavspacers4\"]\n",
    "gamelogs += [\"nbafinals/cavsraptors1\",\"nbafinals/cavsraptors2\",\"nbafinals/cavsraptors3\",\"nbafinals/cavsraptors4\"]\n",
    "gamelogs += [\"nbafinals/cavsceltics1\",\"nbafinals/cavsceltics2\",\"nbafinals/cavsceltics3\",\"nbafinals/cavsceltics4\",\"nbafinals/cavsceltics5\"]"
   ]
  },
  {
   "cell_type": "code",
   "execution_count": 3,
   "metadata": {},
   "outputs": [],
   "source": [
    "Lebron_FT  = [\"\".join([\"+\" if \"makes\" in line else \"-\" for line in open(game) if '\\tLeBron' in line and \"free throw\" in line]) for game in gamelogs]\n",
    "Lebron_3  = [\"\".join([\"+\" if \"makes\" in line else \"-\" for line in open(game) if '\\tLeBron' in line and \"three\" in line]) for game in gamelogs]\n",
    "Kyrie_FT = [\"\".join([\"+\" if \"makes\" in line else \"-\" for line in open(game) if '\\tKyrie Irving' in line and \"free throw\" in line]) for game in gamelogs]\n",
    "Kyrie_3  = [\"\".join([\"+\" if \"makes\" in line else \"-\" for line in open(game) if '\\tKyrie Irving' in line and \"three\" in line]) for game in gamelogs]\n",
    "#Durant_FT  = [\"\".join([\"+\" if \"makes\" in line else \"-\" for line in open(game) if '\\tKevin Durant' in line and \"free throw\" in line]) for game in gamelogs]\n",
    "#Durant_3  = [\"\".join([\"+\" if \"makes\" in line else \"-\" for line in open(game) if '\\tKevin Durant' in line and \"three\" in line]) for game in gamelogs]\n",
    "\n",
    "JR_3 = [\"\".join([\"+\" if \"makes\" in line else \"-\" for line in open(game) if '\\tJR' in line and \"three\" in line]) for game in gamelogs]\n",
    "#Klay_3 = [\"\".join([\"+\" if \"makes\" in line else \"-\" for line in open(game) if '\\tKlay' in line and \"three\" in line]) for game in gamelogs]"
   ]
  },
  {
   "cell_type": "code",
   "execution_count": 18,
   "metadata": {},
   "outputs": [],
   "source": [
    "bron_models = evaluate_models(Lebron_3,[\"+\",\"-\"],alpha=1e-3,qbounds = [0,4])"
   ]
  },
  {
   "cell_type": "code",
   "execution_count": 23,
   "metadata": {},
   "outputs": [],
   "source": [
    "bron_1 = infer_model(Lebron_3,[\"+\",\"-\"],1e-3,1)\n",
    "bron_2 = infer_model(Lebron_3,[\"+\",\"-\"],1e-3,2)\n",
    "bron_3 = infer_model(Lebron_3,[\"+\",\"-\"],1e-3,3)\n",
    "bron_4 = infer_model(Lebron_3,[\"+\",\"-\"],1e-3,4)"
   ]
  },
  {
   "cell_type": "code",
   "execution_count": 34,
   "metadata": {},
   "outputs": [
    {
     "data": {
      "text/plain": [
       "<matplotlib.collections.PathCollection at 0x115d8fe10>"
      ]
     },
     "execution_count": 34,
     "metadata": {},
     "output_type": "execute_result"
    },
    {
     "data": {
      "image/png": "[encoded data removed]",
      "text/plain": [
       "<matplotlib.figure.Figure at 0x116218358>"
      ]
     },
     "metadata": {},
     "output_type": "display_data"
    }
   ],
   "source": [
    "plt.plot([v for v in bron_models['LOO'].values()])\n",
    "plt.scatter([0,1,2,3,4],[v for v in bron_models['LOO'].values()])\n",
    "plt.plot([v for v in bron_models['AIC'].values()])\n",
    "plt.scatter([0,1,2,3,4],[v for v in bron_models['AIC'].values()])\n",
    "plt.plot([v for v in bron_models['WAIC1'].values()])\n",
    "plt.scatter([0,1,2,3,4],[v for v in bron_models['WAIC1'].values()])\n",
    "plt.plot([v for v in bron_models['WAIC2'].values()])\n",
    "plt.scatter([0,1,2,3,4],[v for v in bron_models['WAIC2'].values()])\n",
    "\n",
    "#plt.axes.set_xticks([0,1,2,3,4])"
   ]
  },
  {
   "cell_type": "code",
   "execution_count": 25,
   "metadata": {},
   "outputs": [
    {
     "data": {
      "text/plain": [
       "['-+-+--',\n",
       " '+--',\n",
       " '+++--+',\n",
       " '-+-+-+--',\n",
       " '++----',\n",
       " '++-',\n",
       " '--',\n",
       " '+-+-+-++--+-',\n",
       " '-+-',\n",
       " '--++-',\n",
       " '++-++-',\n",
       " '++',\n",
       " '+-+-++--+-',\n",
       " '--+-',\n",
       " '-+++-',\n",
       " '----',\n",
       " '----+-',\n",
       " '--+++']"
      ]
     },
     "execution_count": 25,
     "metadata": {},
     "output_type": "execute_result"
    }
   ],
   "source": [
    "Lebron_3"
   ]
  },
  {
   "cell_type": "code",
   "execution_count": 26,
   "metadata": {},
   "outputs": [
    {
     "data": {
      "text/plain": [
       "(defaultdict(functools.partial(<built-in function zeros>, 2),\n",
       "             {'++': array([ 0.25004166,  0.74995834]),\n",
       "              '+-': array([ 0.56249219,  0.43750781]),\n",
       "              '-+': array([ 0.31580886,  0.68419114]),\n",
       "              '--': array([ 0.53845562,  0.46154438]),\n",
       "              '0+': array([ 0.62496876,  0.37503124]),\n",
       "              '0-': array([ 0.40002,  0.59998])}),\n",
       " defaultdict(functools.partial(<built-in function zeros>, 2),\n",
       "             {'++': array([ 3.,  9.]),\n",
       "              '+-': array([ 9.,  7.]),\n",
       "              '-+': array([  6.,  13.]),\n",
       "              '--': array([ 7.,  6.]),\n",
       "              '0+': array([ 5.,  3.]),\n",
       "              '0-': array([ 4.,  6.])}))"
      ]
     },
     "execution_count": 26,
     "metadata": {},
     "output_type": "execute_result"
    }
   ],
   "source": [
    "bron_2"
   ]
  },
  {
   "cell_type": "code",
   "execution_count": 27,
   "metadata": {},
   "outputs": [
    {
     "data": {
      "text/plain": [
       "(defaultdict(functools.partial(<built-in function zeros>, 2),\n",
       "             {'+++-': array([  9.98003992e-04,   9.99001996e-01]),\n",
       "              '++-+': array([  9.99001996e-01,   9.98003992e-04]),\n",
       "              '++--': array([ 0.74987506,  0.25012494]),\n",
       "              '+-++': array([  3.33111259e-04,   9.99666889e-01]),\n",
       "              '+-+-': array([ 0.66661113,  0.33338887]),\n",
       "              '+--+': array([  4.99500500e-04,   9.99500500e-01]),\n",
       "              '+---': array([  9.98003992e-04,   9.99001996e-01]),\n",
       "              '-+++': array([  9.98003992e-04,   9.99001996e-01]),\n",
       "              '-++-': array([  4.99500500e-04,   9.99500500e-01]),\n",
       "              '-+-+': array([ 0.33338887,  0.66661113]),\n",
       "              '--++': array([ 0.5,  0.5]),\n",
       "              '---+': array([  9.98003992e-04,   9.99001996e-01]),\n",
       "              '----': array([  9.99001996e-01,   9.98003992e-04]),\n",
       "              '0+++': array([  9.98003992e-04,   9.99001996e-01]),\n",
       "              '0++-': array([ 0.5,  0.5]),\n",
       "              '0+-+': array([  4.99500500e-04,   9.99500500e-01]),\n",
       "              '0-++': array([  9.99001996e-01,   9.98003992e-04]),\n",
       "              '0-+-': array([  9.99500500e-01,   4.99500500e-04]),\n",
       "              '0--+': array([ 0.66655563,  0.33344437]),\n",
       "              '0---': array([  4.99500500e-04,   9.99500500e-01]),\n",
       "              '00++': array([ 0.25012494,  0.74987506]),\n",
       "              '00+-': array([ 0.66655563,  0.33344437]),\n",
       "              '00-+': array([ 0.25012494,  0.74987506]),\n",
       "              '00--': array([ 0.59996002,  0.40003998]),\n",
       "              '000+': array([ 0.62496876,  0.37503124]),\n",
       "              '000-': array([ 0.40002,  0.59998])}),\n",
       " defaultdict(functools.partial(<built-in function zeros>, 2),\n",
       "             {'+++-': array([ 0.,  1.]),\n",
       "              '++-+': array([ 1.,  0.]),\n",
       "              '++--': array([ 3.,  1.]),\n",
       "              '+-++': array([ 0.,  3.]),\n",
       "              '+-+-': array([ 4.,  2.]),\n",
       "              '+--+': array([ 0.,  2.]),\n",
       "              '+---': array([ 0.,  1.]),\n",
       "              '-+++': array([ 0.,  1.]),\n",
       "              '-++-': array([ 0.,  2.]),\n",
       "              '-+-+': array([ 2.,  4.]),\n",
       "              '--++': array([ 1.,  1.]),\n",
       "              '---+': array([ 0.,  1.]),\n",
       "              '----': array([ 1.,  0.]),\n",
       "              '0+++': array([ 0.,  1.]),\n",
       "              '0++-': array([ 1.,  1.]),\n",
       "              '0+-+': array([ 0.,  2.]),\n",
       "              '0-++': array([ 1.,  0.]),\n",
       "              '0-+-': array([ 2.,  0.]),\n",
       "              '0--+': array([ 2.,  1.]),\n",
       "              '0---': array([ 0.,  2.]),\n",
       "              '00++': array([ 1.,  3.]),\n",
       "              '00+-': array([ 2.,  1.]),\n",
       "              '00-+': array([ 1.,  3.]),\n",
       "              '00--': array([ 3.,  2.]),\n",
       "              '000+': array([ 5.,  3.]),\n",
       "              '000-': array([ 4.,  6.])}))"
      ]
     },
     "execution_count": 27,
     "metadata": {},
     "output_type": "execute_result"
    }
   ],
   "source": [
    "bron_4"
   ]
  },
  {
   "cell_type": "code",
   "execution_count": null,
   "metadata": {
    "collapsed": true
   },
   "outputs": [],
   "source": []
  }
 ],
 "metadata": {
  "kernelspec": {
   "display_name": "Python 3",
   "language": "python",
   "name": "python3"
  },
  "language_info": {
   "codemirror_mode": {
    "name": "ipython",
    "version": 3
   },
   "file_extension": ".py",
   "mimetype": "text/x-python",
   "name": "python",
   "nbconvert_exporter": "python",
   "pygments_lexer": "ipython3",
   "version": "3.6.0"
  }
 },
 "nbformat": 4,
 "nbformat_minor": 2
}
